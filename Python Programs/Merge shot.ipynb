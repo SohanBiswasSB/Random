{
 "cells": [
  {
   "cell_type": "code",
   "execution_count": 1,
   "id": "5b0ca427",
   "metadata": {},
   "outputs": [
    {
     "name": "stdout",
     "output_type": "stream",
     "text": [
      "Splitting  [3, 1, 4, 1, 5, 9, 2, 6, 5, 4]\n",
      "Splitting  [3, 1, 4, 1, 5]\n",
      "Splitting  [3, 1]\n",
      "Splitting  [3]\n",
      "Merging  [3]\n",
      "Splitting  [1]\n",
      "Merging  [1]\n",
      "Merging  [1, 3]\n",
      "Splitting  [4, 1, 5]\n",
      "Splitting  [4]\n",
      "Merging  [4]\n",
      "Splitting  [1, 5]\n",
      "Splitting  [1]\n",
      "Merging  [1]\n",
      "Splitting  [5]\n",
      "Merging  [5]\n",
      "Merging  [1, 5]\n",
      "Merging  [1, 4, 5]\n",
      "Merging  [1, 1, 3, 4, 5]\n",
      "Splitting  [9, 2, 6, 5, 4]\n",
      "Splitting  [9, 2]\n",
      "Splitting  [9]\n",
      "Merging  [9]\n",
      "Splitting  [2]\n",
      "Merging  [2]\n",
      "Merging  [2, 9]\n",
      "Splitting  [6, 5, 4]\n",
      "Splitting  [6]\n",
      "Merging  [6]\n",
      "Splitting  [5, 4]\n",
      "Splitting  [5]\n",
      "Merging  [5]\n",
      "Splitting  [4]\n",
      "Merging  [4]\n",
      "Merging  [4, 5]\n",
      "Merging  [4, 5, 6]\n",
      "Merging  [2, 4, 5, 6, 9]\n",
      "Merging  [1, 1, 2, 3, 4, 4, 5, 5, 6, 9]\n",
      "[1, 1, 2, 3, 4, 4, 5, 5, 6, 9]\n"
     ]
    }
   ],
   "source": [
    "def mergeSort(nlist):\n",
    "    print(\"Splitting \",nlist)\n",
    "    if len(nlist)>1:\n",
    "        mid = len(nlist)//2\n",
    "        lefthalf = nlist[:mid]\n",
    "        righthalf = nlist[mid:]\n",
    " \n",
    "        mergeSort(lefthalf)\n",
    "        mergeSort(righthalf)\n",
    "        i=j=k=0      \n",
    "        while i < len(lefthalf) and j < len(righthalf):\n",
    "            if lefthalf[i] < righthalf[j]:\n",
    "                nlist[k]=lefthalf[i]\n",
    "                i=i+1\n",
    "            else:\n",
    "                nlist[k]=righthalf[j]\n",
    "                j=j+1\n",
    "            k=k+1\n",
    " \n",
    "        while i < len(lefthalf):\n",
    "            nlist[k]=lefthalf[i]\n",
    "            i=i+1\n",
    "            k=k+1\n",
    " \n",
    "        while j < len(righthalf):\n",
    "            nlist[k]=righthalf[j]\n",
    "            j=j+1\n",
    "            k=k+1\n",
    "    print(\"Merging \",nlist)\n",
    " \n",
    "nlist = [3,1,4,1,5,9,2,6,5,4]\n",
    "mergeSort(nlist)\n",
    "print(nlist)"
   ]
  },
  {
   "cell_type": "code",
   "execution_count": null,
   "id": "b6b8a10e",
   "metadata": {},
   "outputs": [],
   "source": []
  }
 ],
 "metadata": {
  "kernelspec": {
   "display_name": "Python 3",
   "language": "python",
   "name": "python3"
  },
  "language_info": {
   "codemirror_mode": {
    "name": "ipython",
    "version": 3
   },
   "file_extension": ".py",
   "mimetype": "text/x-python",
   "name": "python",
   "nbconvert_exporter": "python",
   "pygments_lexer": "ipython3",
   "version": "3.9.4"
  }
 },
 "nbformat": 4,
 "nbformat_minor": 5
}
