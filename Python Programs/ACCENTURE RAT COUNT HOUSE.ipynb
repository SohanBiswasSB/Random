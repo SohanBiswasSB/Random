{
 "cells": [
  {
   "cell_type": "code",
   "execution_count": null,
   "id": "76ceea2a",
   "metadata": {},
   "outputs": [],
   "source": [
    "\"\"\"\n",
    "Problem Description :\n",
    "\n",
    "The function accepts two positive integers ‘r’ and ‘unit’ and a positive integer\n",
    "array ‘arr’ of size ‘n’ as its argument ‘r’ represents the number of rats \n",
    "present in an area, ‘unit’ is the amount of food each rat consumes and \n",
    "each ith element of array ‘arr’ represents the amount of food \n",
    "present in ‘i+1’ house number, where 0 <= i\n",
    "\n",
    "Note:\n",
    "\n",
    "Return -1 if the array is null\n",
    "Return 0 if the total amount of food from all houses is not sufficient for all\n",
    "the rats.\n",
    "Computed values lie within the integer range.\n",
    "Example:\n",
    "\n",
    "Input:\n",
    "\n",
    "r: 7\n",
    "unit: 2\n",
    "n: 8\n",
    "arr: 2 8 3 5 7 4 1 2\n",
    "Output:\n",
    "\n",
    "4\n",
    "\n",
    "Explanation:\n",
    "\n",
    "Total amount of food required for all rats = r * unit\n",
    "\n",
    "= 7 * 2 = 14.\n",
    "\n",
    "The amount of food in 1st houses = 2+8+3+5 = 18. Since, amount of food\n",
    "in 1st 4 houses is sufficient for all the rats. Thus, output is 4.\n",
    "\n",
    "\"\"\""
   ]
  },
  {
   "cell_type": "code",
   "execution_count": 1,
   "id": "764e5c68",
   "metadata": {},
   "outputs": [
    {
     "name": "stdout",
     "output_type": "stream",
     "text": [
      "7\n",
      "2\n",
      "8\n",
      "2 8 3 5 7 4 1 2\n",
      "4\n"
     ]
    }
   ],
   "source": [
    "def calculate(r,unit,arr,n):\n",
    "    if n==0:\n",
    "        return -1\n",
    "\n",
    "    totalFoodRequired=r*unit\n",
    "    foodTillNow=0\n",
    "    house=0\n",
    "\n",
    "    for house in range(n):\n",
    "        foodTillNow+=arr[house]\n",
    "        if foodTillNow >= totalFoodRequired:\n",
    "            break\n",
    "\n",
    "    if totalFoodRequired > foodTillNow:\n",
    "        return 0\n",
    "\n",
    "    return house+1\n",
    "\n",
    "r = int(input())\n",
    "unit = int(input())\n",
    "n = int(input())\n",
    "\n",
    "arr = list(map(int,input().split()))\n",
    "print(calculate(r,unit,arr,n))"
   ]
  },
  {
   "cell_type": "code",
   "execution_count": null,
   "id": "2c973ee6",
   "metadata": {},
   "outputs": [],
   "source": []
  }
 ],
 "metadata": {
  "kernelspec": {
   "display_name": "Python 3 (ipykernel)",
   "language": "python",
   "name": "python3"
  },
  "language_info": {
   "codemirror_mode": {
    "name": "ipython",
    "version": 3
   },
   "file_extension": ".py",
   "mimetype": "text/x-python",
   "name": "python",
   "nbconvert_exporter": "python",
   "pygments_lexer": "ipython3",
   "version": "3.9.6"
  }
 },
 "nbformat": 4,
 "nbformat_minor": 5
}
