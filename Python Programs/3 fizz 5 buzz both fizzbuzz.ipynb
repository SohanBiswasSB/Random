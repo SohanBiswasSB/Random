{
 "cells": [
  {
   "cell_type": "code",
   "execution_count": 1,
   "id": "48976262",
   "metadata": {},
   "outputs": [
    {
     "data": {
      "text/plain": [
       "'\\nReplace all integers that are evenly divisible by 3 with \"fizz\"\\nReplace all integers divisible by 5 with \"buzz\"\\nReplace all integers divisible by both 3 and 5 with \"fizzbuzz\\n\\n'"
      ]
     },
     "execution_count": 1,
     "metadata": {},
     "output_type": "execute_result"
    }
   ],
   "source": [
    "\"\"\"\n",
    "Replace all integers that are evenly divisible by 3 with \"fizz\"\n",
    "Replace all integers divisible by 5 with \"buzz\"\n",
    "Replace all integers divisible by both 3 and 5 with \"fizzbuzz\n",
    "\n",
    "\"\"\""
   ]
  },
  {
   "cell_type": "code",
   "execution_count": 3,
   "id": "ec69ab8f",
   "metadata": {},
   "outputs": [
    {
     "name": "stdout",
     "output_type": "stream",
     "text": [
      "Enter the length4\n",
      "3\n",
      "5\n",
      "15\n",
      "6\n",
      "['fiz', 'buzz', 'fizbuzz', 'fiz']\n"
     ]
    }
   ],
   "source": [
    "num=[]\n",
    "length=int(input(\"Enter the length\"))\n",
    "for i in range(0,length):\n",
    "    elements=int(input())\n",
    "    num.append(elements)\n",
    "def div(num):\n",
    "    for i in range(len(num)):\n",
    "        if num[i]%3==0 and num[i]%5==0:\n",
    "            num[i]='fizbuzz'\n",
    "        elif num[i]%5==0:\n",
    "            num[i]='buzz'\n",
    "        elif num[i]%3==0:\n",
    "            num[i]='fiz'\n",
    "    return num\n",
    "print(div(num))"
   ]
  },
  {
   "cell_type": "code",
   "execution_count": null,
   "id": "d32127ec",
   "metadata": {},
   "outputs": [],
   "source": []
  }
 ],
 "metadata": {
  "kernelspec": {
   "display_name": "Python 3",
   "language": "python",
   "name": "python3"
  },
  "language_info": {
   "codemirror_mode": {
    "name": "ipython",
    "version": 3
   },
   "file_extension": ".py",
   "mimetype": "text/x-python",
   "name": "python",
   "nbconvert_exporter": "python",
   "pygments_lexer": "ipython3",
   "version": "3.9.4"
  }
 },
 "nbformat": 4,
 "nbformat_minor": 5
}
