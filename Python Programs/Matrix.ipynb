{
 "cells": [
  {
   "cell_type": "code",
   "execution_count": 4,
   "id": "d93a14ae",
   "metadata": {},
   "outputs": [
    {
     "name": "stdout",
     "output_type": "stream",
     "text": [
      "Enter the number of rows:3\n",
      "Enter the number of columns:3\n",
      "Enter the entries rowwise:\n",
      "1\n",
      "2\n",
      "3\n",
      "4\n",
      "5\n",
      "6\n",
      "7\n",
      "8\n",
      "9\n",
      "1 2 3 \n",
      "4 5 6 \n",
      "7 8 9 \n"
     ]
    }
   ],
   "source": [
    "# A basic code for matrix input from user\n",
    "  \n",
    "R = int(input(\"Enter the number of rows:\"))\n",
    "C = int(input(\"Enter the number of columns:\"))\n",
    "  \n",
    "# Initialize matrix\n",
    "matrix = []\n",
    "print(\"Enter the entries rowwise:\")\n",
    "  \n",
    "# For user input\n",
    "for i in range(R):          # A for loop for row entries\n",
    "    a =[]\n",
    "    for j in range(C):      # A for loop for column entries\n",
    "         a.append(int(input()))\n",
    "    matrix.append(a)\n",
    "  \n",
    "# For printing the matrix\n",
    "for i in range(R):\n",
    "    for j in range(C):\n",
    "        print(matrix[i][j], end = \" \")\n",
    "    print()"
   ]
  },
  {
   "cell_type": "code",
   "execution_count": null,
   "id": "9c70bd21",
   "metadata": {},
   "outputs": [],
   "source": [
    "# Program to add two matrices using nested loop"
   ]
  },
  {
   "cell_type": "code",
   "execution_count": 1,
   "id": "f746e211",
   "metadata": {},
   "outputs": [
    {
     "name": "stdout",
     "output_type": "stream",
     "text": [
      "[17, 15, 4]\n",
      "[10, 12, 9]\n",
      "[11, 13, 18]\n"
     ]
    }
   ],
   "source": [
    "X = [[12,7,3],\n",
    "    [4 ,5,6],\n",
    "    [7 ,8,9]]\n",
    "\n",
    "Y = [[5,8,1],\n",
    "    [6,7,3],\n",
    "    [4,5,9]]\n",
    "\n",
    "result = [[0,0,0],\n",
    "         [0,0,0],\n",
    "         [0,0,0]]\n",
    "\n",
    "# iterate through rows\n",
    "for i in range(len(X)):\n",
    "   # iterate through columns\n",
    "   for j in range(len(X[0])):\n",
    "       result[i][j] = X[i][j] + Y[i][j]\n",
    "\n",
    "for r in result:\n",
    "   print(r)"
   ]
  },
  {
   "cell_type": "code",
   "execution_count": null,
   "id": "b7804950",
   "metadata": {},
   "outputs": [],
   "source": [
    "# Print matrix in spiral order"
   ]
  },
  {
   "cell_type": "code",
   "execution_count": 2,
   "id": "945fb23e",
   "metadata": {},
   "outputs": [
    {
     "name": "stdout",
     "output_type": "stream",
     "text": [
      "1 2 3 4 5 6 7 8 9 10 11 12 13 14 15 16 17 18 19 20 21 22 23 24 25 "
     ]
    }
   ],
   "source": [
    "def printSpiralOrder(mat):\n",
    " \n",
    "    top = left = 0\n",
    "    bottom = len(mat) - 1\n",
    "    right = len(mat[0]) - 1\n",
    " \n",
    "    while True:\n",
    "        if left > right:\n",
    "            break\n",
    " \n",
    "        # print top row\n",
    "        for i in range(left, right + 1):\n",
    "            print(mat[top][i], end=' ')\n",
    "        top = top + 1\n",
    " \n",
    "        if top > bottom:\n",
    "            break\n",
    " \n",
    "        # print right column\n",
    "        for i in range(top, bottom + 1):\n",
    "            print(mat[i][right], end=' ')\n",
    "        right = right - 1\n",
    " \n",
    "        if left > right:\n",
    "            break\n",
    " \n",
    "        # print bottom row\n",
    "        for i in range(right, left - 1, -1):\n",
    "            print(mat[bottom][i], end=' ')\n",
    "        bottom = bottom - 1\n",
    " \n",
    "        if top > bottom:\n",
    "            break\n",
    " \n",
    "        # print left column\n",
    "        for i in range(bottom, top - 1, -1):\n",
    "            print(mat[i][left], end=' ')\n",
    "        left = left + 1\n",
    " \n",
    " \n",
    "if __name__ == '__main__':\n",
    " \n",
    "    mat = [\n",
    "        [1, 2, 3, 4, 5],\n",
    "        [16, 17, 18, 19, 6],\n",
    "        [15, 24, 25, 20, 7],\n",
    "        [14, 23, 22, 21, 8],\n",
    "        [13, 12, 11, 10, 9]\n",
    "    ]\n",
    " \n",
    "    printSpiralOrder(mat)\n",
    " \n",
    "\n",
    "\n"
   ]
  },
  {
   "cell_type": "code",
   "execution_count": 3,
   "id": "cc8123c6",
   "metadata": {},
   "outputs": [
    {
     "name": "stdout",
     "output_type": "stream",
     "text": [
      "[114, 160, 60, 27]\n",
      "[74, 97, 73, 14]\n",
      "[119, 157, 112, 23]\n"
     ]
    }
   ],
   "source": [
    "# Program to multiply two matrices using nested loops\n",
    "\n",
    "# 3x3 matrix\n",
    "X = [[12,7,3],\n",
    "    [4 ,5,6],\n",
    "    [7 ,8,9]]\n",
    "# 3x4 matrix\n",
    "Y = [[5,8,1,2],\n",
    "    [6,7,3,0],\n",
    "    [4,5,9,1]]\n",
    "# result is 3x4\n",
    "result = [[0,0,0,0],\n",
    "         [0,0,0,0],\n",
    "         [0,0,0,0]]\n",
    "\n",
    "# iterate through rows of X\n",
    "for i in range(len(X)):\n",
    "   # iterate through columns of Y\n",
    "   for j in range(len(Y[0])):\n",
    "       # iterate through rows of Y\n",
    "       for k in range(len(Y)):\n",
    "           result[i][j] += X[i][k] * Y[k][j]\n",
    "\n",
    "for r in result:\n",
    "   print(r)"
   ]
  },
  {
   "cell_type": "code",
   "execution_count": null,
   "id": "fecd6136",
   "metadata": {},
   "outputs": [],
   "source": []
  }
 ],
 "metadata": {
  "kernelspec": {
   "display_name": "Python 3",
   "language": "python",
   "name": "python3"
  },
  "language_info": {
   "codemirror_mode": {
    "name": "ipython",
    "version": 3
   },
   "file_extension": ".py",
   "mimetype": "text/x-python",
   "name": "python",
   "nbconvert_exporter": "python",
   "pygments_lexer": "ipython3",
   "version": "3.9.4"
  }
 },
 "nbformat": 4,
 "nbformat_minor": 5
}
