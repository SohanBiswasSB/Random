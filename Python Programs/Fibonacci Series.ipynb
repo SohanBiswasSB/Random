{
 "cells": [
  {
   "cell_type": "code",
   "execution_count": null,
   "id": "336c9223",
   "metadata": {},
   "outputs": [],
   "source": [
    "\"\"\"\n",
    "Basic fibonacci\n",
    "\n",
    "\"\"\""
   ]
  },
  {
   "cell_type": "code",
   "execution_count": 4,
   "id": "46d32628",
   "metadata": {},
   "outputs": [
    {
     "name": "stdout",
     "output_type": "stream",
     "text": [
      "Enter your terms:1\n",
      "Fibonacci Series upto 1  is/are: 0\n"
     ]
    }
   ],
   "source": [
    "n=int(input(\"Enter your terms:\"))\n",
    "n1,n2=0,1\n",
    "count=0\n",
    "if(n<=0):\n",
    "    print(\"Enter valid response.\")\n",
    "elif n==1:\n",
    "    print(\"Fibonacci Series upto\",n,\" is/are:\",n1)\n",
    "else:\n",
    "    print(\"Fibonacci Series upto\",n,\" is/are:\")\n",
    "    while count<n:\n",
    "        print(n1)\n",
    "        nth=n1+n2\n",
    "        n1=n2\n",
    "        n2=nth\n",
    "        count+=1\n"
   ]
  },
  {
   "cell_type": "code",
   "execution_count": null,
   "id": "81ff18f7",
   "metadata": {},
   "outputs": [],
   "source": [
    "\"\"\"\n",
    "Fibonacci from a given user number to another\n",
    "\n",
    "\"\"\""
   ]
  },
  {
   "cell_type": "code",
   "execution_count": 6,
   "id": "75eb2092",
   "metadata": {},
   "outputs": [
    {
     "name": "stdout",
     "output_type": "stream",
     "text": [
      "1 is a Fibonacci Number\n",
      "2 is a Fibonacci Number\n",
      "3 is a Fibonacci Number\n",
      "4 is a not Fibonacci Number \n",
      "5 is a Fibonacci Number\n",
      "6 is a not Fibonacci Number \n",
      "7 is a not Fibonacci Number \n",
      "8 is a Fibonacci Number\n",
      "9 is a not Fibonacci Number \n",
      "10 is a not Fibonacci Number \n"
     ]
    }
   ],
   "source": [
    "s=int(input(\"Enter starting number:\"))\n",
    "e=int(input(\"Enter ending number:\"))\n"
   ]
  },
  {
   "cell_type": "code",
   "execution_count": 8,
   "id": "07b73050",
   "metadata": {},
   "outputs": [
    {
     "name": "stdout",
     "output_type": "stream",
     "text": [
      "Enter starting number:66\n",
      "Enter ending number:255\n",
      "89 is a Fibonacci Number\n",
      "144 is a Fibonacci Number\n",
      "233 is a Fibonacci Number\n"
     ]
    }
   ],
   "source": [
    "import math\n",
    "s=int(input(\"Enter starting number:\"))\n",
    "e=int(input(\"Enter ending number:\"))\n",
    " \n",
    "# A utility function that returns true if x is perfect square\n",
    "def isPerfectSquare(x):\n",
    "    s = int(math.sqrt(x))\n",
    "    return s*s == x\n",
    "  \n",
    "# Returns true if n is a Fibinacci Number, else false\n",
    "def isFibonacci(n):\n",
    "  \n",
    "    # n is Fibinacci if one of 5*n*n + 4 or 5*n*n - 4 or both\n",
    "    # is a perferct square\n",
    "    return isPerfectSquare(5*n*n + 4) or isPerfectSquare(5*n*n - 4)\n",
    "     \n",
    "# A utility function to test above functions\n",
    "for i in range(s,e):\n",
    "     if (isFibonacci(i) == True):\n",
    "         print (i,\"is a Fibonacci Number\")"
   ]
  },
  {
   "cell_type": "code",
   "execution_count": null,
   "id": "09f2e0cf",
   "metadata": {},
   "outputs": [],
   "source": []
  }
 ],
 "metadata": {
  "kernelspec": {
   "display_name": "Python 3",
   "language": "python",
   "name": "python3"
  },
  "language_info": {
   "codemirror_mode": {
    "name": "ipython",
    "version": 3
   },
   "file_extension": ".py",
   "mimetype": "text/x-python",
   "name": "python",
   "nbconvert_exporter": "python",
   "pygments_lexer": "ipython3",
   "version": "3.9.4"
  }
 },
 "nbformat": 4,
 "nbformat_minor": 5
}
