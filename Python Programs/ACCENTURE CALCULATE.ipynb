{
 "cells": [
  {
   "cell_type": "code",
   "execution_count": null,
   "id": "240498fe",
   "metadata": {},
   "outputs": [],
   "source": [
    "\"\"\"\n",
    "You are required to implement the following function:\n",
    "\n",
    "Int Calculate(int m, int n);\n",
    "\n",
    "The function accepts 2 positive integer ‘m’ and ‘n’ as its arguments.You are required to calculate the sum of numbers divisible both by 3 and 5, between ‘m’ and ‘n’ both inclusive and return the same.\n",
    "Note\n",
    "0 < m <= n\n",
    "\n",
    "Example\n",
    "\n",
    "Input:\n",
    "\n",
    "m : 12\n",
    "\n",
    "n : 50\n",
    "\n",
    "Output\n",
    "\n",
    "90\n",
    "\n",
    "Explanation:\n",
    "The numbers divisible by both 3 and 5, between 12 and 50 both inclusive are {15, 30, 45} and their sum is 90.\n",
    "Sample Input\n",
    "m : 100\n",
    "n : 160\n",
    "Sample Output\n",
    "405\n",
    "\n",
    "\"\"\""
   ]
  },
  {
   "cell_type": "code",
   "execution_count": 4,
   "id": "a6c6632a",
   "metadata": {},
   "outputs": [
    {
     "name": "stdout",
     "output_type": "stream",
     "text": [
      "M:100\n",
      "N:160\n",
      "510\n"
     ]
    }
   ],
   "source": [
    "m = int(input(\"M:\"))\n",
    "n = int(input(\"N:\"))\n",
    "\n",
    "\n",
    "def calculate(m, n):\n",
    "    sum = 0\n",
    "    for i in range(m,n+1,1):\n",
    "        if i%3 == 0 and i%5 == 0:\n",
    "            sum = sum + i\n",
    "    print(sum)\n",
    "\n",
    "calculate(m,n)"
   ]
  },
  {
   "cell_type": "code",
   "execution_count": null,
   "id": "41af881e",
   "metadata": {},
   "outputs": [],
   "source": []
  },
  {
   "cell_type": "code",
   "execution_count": null,
   "id": "4ce75816",
   "metadata": {},
   "outputs": [],
   "source": []
  }
 ],
 "metadata": {
  "kernelspec": {
   "display_name": "Python 3 (ipykernel)",
   "language": "python",
   "name": "python3"
  },
  "language_info": {
   "codemirror_mode": {
    "name": "ipython",
    "version": 3
   },
   "file_extension": ".py",
   "mimetype": "text/x-python",
   "name": "python",
   "nbconvert_exporter": "python",
   "pygments_lexer": "ipython3",
   "version": "3.9.6"
  }
 },
 "nbformat": 4,
 "nbformat_minor": 5
}
