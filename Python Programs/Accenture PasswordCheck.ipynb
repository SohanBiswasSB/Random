{
 "cells": [
  {
   "cell_type": "code",
   "execution_count": 1,
   "id": "e6cb243f",
   "metadata": {},
   "outputs": [
    {
     "data": {
      "text/plain": [
       "\"\\nYou are given a function:\\n    int CheckPassowrd(char str[], int n);\\nThe fucntion acceppts string 'str' of size 'n' as argument.\\nImplement the function which return 1 if given \\nstring 'str' is a valid password else 0.\\n'str' is a valid password if it satisfies below conditions:\\n    Atleast 4 characters\\n    Atleast 1 numeric deigit\\n    Atleast 1 capital letter\\n    Must not have space or slash(/)\\n    Starting character must not be a number\\n    \\nAssumtion: Input String will not be empty\\nExample:\\nInput:\\naA1_67\\nOutput:\\n1\\n\\nSample input:\\na987 abC012\\nSample output:\\n0\\n    \\n\""
      ]
     },
     "execution_count": 1,
     "metadata": {},
     "output_type": "execute_result"
    }
   ],
   "source": [
    "\"\"\"\n",
    "You are given a function:\n",
    "    int CheckPassowrd(char str[], int n);\n",
    "The fucntion acceppts string 'str' of size 'n' as argument.\n",
    "Implement the function which return 1 if given \n",
    "string 'str' is a valid password else 0.\n",
    "'str' is a valid password if it satisfies below conditions:\n",
    "    Atleast 4 characters\n",
    "    Atleast 1 numeric deigit\n",
    "    Atleast 1 capital letter\n",
    "    Must not have space or slash(/)\n",
    "    Starting character must not be a number\n",
    "    \n",
    "Assumtion: Input String will not be empty\n",
    "Example:\n",
    "Input:\n",
    "aA1_67\n",
    "Output:\n",
    "1\n",
    "\n",
    "Sample input:\n",
    "a987 abC012\n",
    "Sample output:\n",
    "0\n",
    "    \n",
    "\"\"\"\n"
   ]
  },
  {
   "cell_type": "code",
   "execution_count": null,
   "id": "3b1acdb3",
   "metadata": {},
   "outputs": [],
   "source": [
    "\"\"\"\n",
    "import re\n",
    "def main():\n",
    "    password=input(\"Create a passowrd:\")\n",
    "    x=True\n",
    "    while x:\n",
    "        if(len(password)<4):\n",
    "            return 0\n",
    "            break\n",
    "        elif not re.search(\"[0-9]\",password):\n",
    "            return 0\n",
    "            break\n",
    "        elif not re.search(\"[A-Z]\",password):\n",
    "            return 0\n",
    "            break\n",
    "        elif not re.search(\"[\\s]\",password):\n",
    "            return 0\n",
    "            break\n",
    "        elif not re.search(\"[/]\",password):\n",
    "            return 0\n",
    "            break\n",
    "        elif not (password[0].isdigit()):\n",
    "            return 0\n",
    "            break\n",
    "        else:\n",
    "            return 1\n",
    "            x=False\n",
    "            break\n",
    "    if x:\n",
    "        print(\"Not a Valid Password\")\n",
    "        main()\n",
    "    \n",
    "main()\n",
    "      \n",
    "\"\"\""
   ]
  },
  {
   "cell_type": "code",
   "execution_count": 9,
   "id": "3d10e4cf",
   "metadata": {},
   "outputs": [
    {
     "name": "stdout",
     "output_type": "stream",
     "text": [
      "Passworda987 abC012\n"
     ]
    },
    {
     "data": {
      "text/plain": [
       "0"
      ]
     },
     "execution_count": 9,
     "metadata": {},
     "output_type": "execute_result"
    }
   ],
   "source": [
    "def check(str):\n",
    "    l,u,p,d=0,0,0,0\n",
    "    if (len(str)>=4):\n",
    "        for i in str:\n",
    "            if (i.isupper()):\n",
    "                u+=1\n",
    "            if (i.isdigit()):\n",
    "                d+=1\n",
    "            if(i==' ' or i=='/'):\n",
    "                p+=1\n",
    "    if(u>=1 and p==0 and d>=1 and not str[0].isdigit()):\n",
    "        return 1\n",
    "    else:\n",
    "        return 0\n",
    "str=input(\"Password:\")\n",
    "check(str)"
   ]
  },
  {
   "cell_type": "code",
   "execution_count": null,
   "id": "c64ff404",
   "metadata": {},
   "outputs": [],
   "source": []
  },
  {
   "cell_type": "code",
   "execution_count": null,
   "id": "952db6aa",
   "metadata": {},
   "outputs": [],
   "source": []
  },
  {
   "cell_type": "code",
   "execution_count": null,
   "id": "041aa6f2",
   "metadata": {},
   "outputs": [],
   "source": []
  }
 ],
 "metadata": {
  "kernelspec": {
   "display_name": "Python 3 (ipykernel)",
   "language": "python",
   "name": "python3"
  },
  "language_info": {
   "codemirror_mode": {
    "name": "ipython",
    "version": 3
   },
   "file_extension": ".py",
   "mimetype": "text/x-python",
   "name": "python",
   "nbconvert_exporter": "python",
   "pygments_lexer": "ipython3",
   "version": "3.9.6"
  }
 },
 "nbformat": 4,
 "nbformat_minor": 5
}
