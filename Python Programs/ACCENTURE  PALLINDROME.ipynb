{
 "cells": [
  {
   "cell_type": "code",
   "execution_count": 1,
   "id": "30e7a2f9",
   "metadata": {},
   "outputs": [
    {
     "data": {
      "text/plain": [
       "'\\nInstructions: You are required to write the code. You can click on compile and run anytime to check compilation/execution status. The code should be logically/syntactically correct.\\n\\nQuestion: Write a program in C such that it takes a lower limit and upper limit as inputs and print all the intermediate pallindrome numbers.\\n\\nTest Cases:\\n\\nTestCase 1:\\nInput :\\n10 , 80\\nExpected Result:\\n11 , 22 , 33 , 44 , 55 , 66 , 77.\\n\\nTest Case 2:\\nInput:\\n100,200\\nExpected Result:\\n101 , 111 , 121 , 131 , 141 , 151 , 161 , 171 , 181 , 191.\\n\\n'"
      ]
     },
     "execution_count": 1,
     "metadata": {},
     "output_type": "execute_result"
    }
   ],
   "source": [
    "\"\"\"\n",
    "Instructions: You are required to write the code. You can click on compile and run anytime to check compilation/execution status. The code should be logically/syntactically correct.\n",
    "\n",
    "Question: Write a program in C such that it takes a lower limit and upper limit as inputs and print all the intermediate pallindrome numbers.\n",
    "\n",
    "Test Cases:\n",
    "\n",
    "TestCase 1:\n",
    "Input :\n",
    "10 , 80\n",
    "Expected Result:\n",
    "11 , 22 , 33 , 44 , 55 , 66 , 77.\n",
    "\n",
    "Test Case 2:\n",
    "Input:\n",
    "100,200\n",
    "Expected Result:\n",
    "101 , 111 , 121 , 131 , 141 , 151 , 161 , 171 , 181 , 191.\n",
    "\n",
    "\"\"\""
   ]
  },
  {
   "cell_type": "code",
   "execution_count": 5,
   "id": "c1508f54",
   "metadata": {},
   "outputs": [
    {
     "name": "stdout",
     "output_type": "stream",
     "text": [
      "100\n",
      "200\n",
      "101 111 121 131 141 151 161 171 181 191 "
     ]
    }
   ],
   "source": [
    "first_number = int(input())\n",
    "second_number = int(input())\n",
    "\n",
    "for i in range(first_number, second_number+1):\n",
    "    reverse = 0\n",
    "    temp = i\n",
    "    while temp != 0:\n",
    "        remainder = temp % 10\n",
    "        reverse = (reverse * 10)+remainder\n",
    "        temp = temp // 10\n",
    "    if i == reverse:\n",
    "        print(reverse, end=\" \")"
   ]
  },
  {
   "cell_type": "code",
   "execution_count": null,
   "id": "ccd7b636",
   "metadata": {},
   "outputs": [],
   "source": []
  },
  {
   "cell_type": "code",
   "execution_count": null,
   "id": "dcc56163",
   "metadata": {},
   "outputs": [],
   "source": []
  }
 ],
 "metadata": {
  "kernelspec": {
   "display_name": "Python 3 (ipykernel)",
   "language": "python",
   "name": "python3"
  },
  "language_info": {
   "codemirror_mode": {
    "name": "ipython",
    "version": 3
   },
   "file_extension": ".py",
   "mimetype": "text/x-python",
   "name": "python",
   "nbconvert_exporter": "python",
   "pygments_lexer": "ipython3",
   "version": "3.9.6"
  }
 },
 "nbformat": 4,
 "nbformat_minor": 5
}
