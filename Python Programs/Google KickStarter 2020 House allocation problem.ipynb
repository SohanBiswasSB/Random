{
 "cells": [
  {
   "cell_type": "code",
   "execution_count": null,
   "id": "578b13ed",
   "metadata": {},
   "outputs": [],
   "source": [
    "\"\"\"\n",
    "Avery has an array of N positive integers. The i-th integer of the array is A[i].\n",
    "\n",
    "A contiguous subarray is an m-countdown if it is of length m and contains the \n",
    "integers m, m-1, m-2, ..., 2, 1 in that order. \n",
    "For example, [3, 2, 1] is a 3-countdown.\n",
    "\n",
    "Can you help Avery count the number of K-countdowns in her array?\n",
    "\n",
    "Input\n",
    "\n",
    "The first line of the input gives the number of test cases, T. \n",
    "T test cases follow. Each test case begins with a line containing the \n",
    "integers N and K. The second line contains N integers. The i-th integer is A[i].\n",
    "\n",
    "Output\n",
    "\n",
    "For each test case, output one line containing Case #x: y, \n",
    "where x is the test case number (starting from 1) and \n",
    "y is the number of K-countdowns in her array.\n",
    "\n",
    "Limits\n",
    "\n",
    "Time limit: 20 seconds.\n",
    "Memory limit: 1 GB.\n",
    "1 ≤ T ≤ 100.\n",
    "2 ≤ K ≤ N.\n",
    "1 ≤ Ai ≤ 2 × 105, for all i.\n",
    "\n",
    "Test Set 1\n",
    "\n",
    "2 ≤ N ≤ 1000.\n",
    "\n",
    "Test Set 2\n",
    "\n",
    "2 ≤ N ≤ 2 × 105 for at most 10 test cases.\n",
    "For the remaining cases, 2 ≤ N ≤ 1000.\n",
    "\n",
    "\"\"\""
   ]
  },
  {
   "cell_type": "code",
   "execution_count": 1,
   "id": "e9b987c3",
   "metadata": {},
   "outputs": [
    {
     "name": "stdout",
     "output_type": "stream",
     "text": [
      "3\n",
      "12 3\n",
      "1 2 3 7 9 3 2 1\n",
      "Case #1: 2\n",
      "4 2\n",
      " 101 100 99 98\n",
      "Case #2: 0\n",
      "9 6\n",
      "100 7 6 5 4 3 2 1 100\n",
      "Case #3: 3\n"
     ]
    }
   ],
   "source": [
    "tc = int(input())\n",
    "for i in range(tc):\n",
    "    n, budget = map(int, input().split())\n",
    "    prices = list(map(int, input().split()))\n",
    "    prices.sort()\n",
    "    for j in range(n, 0, -1):\n",
    "        if sum(prices[: j]) <= budget:\n",
    "            print(\"Case #\" + str(i+1) + ': ' + str(len(prices[: j])))\n",
    "            break\n",
    "    else: print(\"Case #\" + str(i+1) + ': 0')"
   ]
  },
  {
   "cell_type": "code",
   "execution_count": null,
   "id": "3dd6e53b",
   "metadata": {},
   "outputs": [
    {
     "name": "stdout",
     "output_type": "stream",
     "text": [
      "3\n",
      "4 100\n",
      "20 90 40 90\n",
      "Case #1: 2\n"
     ]
    }
   ],
   "source": [
    "t= int(input())\n",
    "for x in range(1,t+1):\n",
    "    n,b=map(int,input().split())\n",
    "    houses=list(map(int,input().split()))\n",
    "    houses.sort()\n",
    "    \n",
    "    y=0\n",
    "    \n",
    "    for house in houses:\n",
    "        if b>=house:\n",
    "            b-=house\n",
    "            y+=1\n",
    "        \n",
    "        else:\n",
    "            break\n",
    "    print('Case #%s: %s'%(x,y))"
   ]
  },
  {
   "cell_type": "code",
   "execution_count": null,
   "id": "490e66b3",
   "metadata": {},
   "outputs": [],
   "source": []
  }
 ],
 "metadata": {
  "kernelspec": {
   "display_name": "Python 3 (ipykernel)",
   "language": "python",
   "name": "python3"
  },
  "language_info": {
   "codemirror_mode": {
    "name": "ipython",
    "version": 3
   },
   "file_extension": ".py",
   "mimetype": "text/x-python",
   "name": "python",
   "nbconvert_exporter": "python",
   "pygments_lexer": "ipython3",
   "version": "3.9.6"
  }
 },
 "nbformat": 4,
 "nbformat_minor": 5
}
