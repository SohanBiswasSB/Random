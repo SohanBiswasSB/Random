{
 "cells": [
  {
   "cell_type": "code",
   "execution_count": null,
   "id": "87593c43",
   "metadata": {},
   "outputs": [],
   "source": [
    "\"\"\"\n",
    "Problem Statement \n",
    "\n",
    "You are required to input the size of the matrix then the elements of matrix, then you have to divide the main matrix in two sub matrices (even and odd) in such a way that element at 0 index will be considered as even and element at 1st index will be considered as odd and so on. then you have sort the even and odd matrices in ascending order then print the sum of second largest number from both the matrices\n",
    "\n",
    "Example\n",
    "\n",
    "enter the size of array : 5\n",
    "enter element at 0 index : 3\n",
    "enter element at 1 index : 4\n",
    "enter element at 2 index : 1\n",
    "enter element at 3 index : 7\n",
    "enter element at 4 index : 9\n",
    "Sorted even array : 1 3 9\n",
    "Sorted odd array : 4 7\n",
    "\n",
    "10\n",
    "\n",
    "\"\"\"\n"
   ]
  },
  {
   "cell_type": "code",
   "execution_count": 2,
   "id": "5ac09b24",
   "metadata": {},
   "outputs": [
    {
     "name": "stdout",
     "output_type": "stream",
     "text": [
      "Enter the size of the array:5\n",
      "Enter Element at 0 index:3\n",
      "Enter Element at 1 index:4\n",
      "Enter Element at 2 index:1\n",
      "Enter Element at 3 index:7\n",
      "Enter Element at 4 index:8\n",
      "Sorted Even Array: [1, 3, 8]\n",
      "Sorted Odd Array: [4, 7]\n",
      "10\n"
     ]
    }
   ],
   "source": [
    "array = []\n",
    "evenArr = []\n",
    "oddArr = []\n",
    "n = int(input(\"Enter the size of the array:\"))\n",
    "for i in range(0,n):\n",
    "    number = int(input(\"Enter Element at {} index:\".format(i)))\n",
    "    array.append(number)\n",
    "    if i % 2 == 0:\n",
    "        evenArr.append(array[i])\n",
    "    else:\n",
    "        oddArr.append(array[i])\n",
    "\n",
    "evenArr = sorted(evenArr)\n",
    "print(\"Sorted Even Array:\", evenArr[0:len(evenArr)])\n",
    "oddArr = sorted(oddArr)\n",
    "print(\"Sorted Odd Array:\", oddArr[0:len(oddArr)])\n",
    "print(evenArr[1] + oddArr[1])"
   ]
  },
  {
   "cell_type": "code",
   "execution_count": null,
   "id": "4eb35854",
   "metadata": {},
   "outputs": [],
   "source": []
  }
 ],
 "metadata": {
  "kernelspec": {
   "display_name": "Python 3 (ipykernel)",
   "language": "python",
   "name": "python3"
  },
  "language_info": {
   "codemirror_mode": {
    "name": "ipython",
    "version": 3
   },
   "file_extension": ".py",
   "mimetype": "text/x-python",
   "name": "python",
   "nbconvert_exporter": "python",
   "pygments_lexer": "ipython3",
   "version": "3.9.6"
  }
 },
 "nbformat": 4,
 "nbformat_minor": 5
}
