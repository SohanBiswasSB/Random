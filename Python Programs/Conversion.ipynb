{
 "cells": [
  {
   "cell_type": "code",
   "execution_count": null,
   "id": "a81f0a06",
   "metadata": {},
   "outputs": [],
   "source": [
    "#Decimal to Binary"
   ]
  },
  {
   "cell_type": "code",
   "execution_count": 3,
   "id": "8f6529af",
   "metadata": {},
   "outputs": [
    {
     "name": "stdout",
     "output_type": "stream",
     "text": [
      "011000"
     ]
    }
   ],
   "source": [
    "def DecimalToBinary(num):\n",
    "    if num >= 1:\n",
    "        DecimalToBinary(num // 2)\n",
    "    print (num % 2,end = '') \n",
    "# Driver Code\n",
    "if __name__ == '__main__':\n",
    "     \n",
    "    # decimal value\n",
    "    dec_val = 24\n",
    "     \n",
    "    # Calling function\n",
    "    DecimalToBinary(dec_val)      "
   ]
  },
  {
   "cell_type": "code",
   "execution_count": null,
   "id": "fe3dc5c5",
   "metadata": {},
   "outputs": [],
   "source": []
  },
  {
   "cell_type": "code",
   "execution_count": null,
   "id": "315ca50a",
   "metadata": {},
   "outputs": [],
   "source": []
  }
 ],
 "metadata": {
  "kernelspec": {
   "display_name": "Python 3",
   "language": "python",
   "name": "python3"
  },
  "language_info": {
   "codemirror_mode": {
    "name": "ipython",
    "version": 3
   },
   "file_extension": ".py",
   "mimetype": "text/x-python",
   "name": "python",
   "nbconvert_exporter": "python",
   "pygments_lexer": "ipython3",
   "version": "3.9.4"
  }
 },
 "nbformat": 4,
 "nbformat_minor": 5
}
