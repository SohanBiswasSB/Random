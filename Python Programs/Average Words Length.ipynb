{
 "cells": [
  {
   "cell_type": "code",
   "execution_count": null,
   "id": "ef3dd920",
   "metadata": {},
   "outputs": [],
   "source": [
    "# For a given sentence, return the average word length. \n",
    "# Note: Remember to remove punctuation first."
   ]
  },
  {
   "cell_type": "code",
   "execution_count": 6,
   "id": "83dbda8f",
   "metadata": {},
   "outputs": [
    {
     "name": "stdout",
     "output_type": "stream",
     "text": [
      "Enter here:I need to work very hard to learn more about algorithms in Python!\n"
     ]
    },
    {
     "data": {
      "text/plain": [
       "4.08"
      ]
     },
     "execution_count": 6,
     "metadata": {},
     "output_type": "execute_result"
    }
   ],
   "source": [
    "def solution(sentence):\n",
    "    for i in \"?.,;!'\":\n",
    "        sentence=sentence.replace(i,'')\n",
    "    words=sentence.split()\n",
    "    return round(sum(len(j) for j in words)/len(words),2)    \n",
    "sentence=input(\"Enter here:\")\n",
    "solution(sentence)"
   ]
  },
  {
   "cell_type": "code",
   "execution_count": null,
   "id": "d21f0648",
   "metadata": {},
   "outputs": [],
   "source": []
  }
 ],
 "metadata": {
  "kernelspec": {
   "display_name": "Python 3",
   "language": "python",
   "name": "python3"
  },
  "language_info": {
   "codemirror_mode": {
    "name": "ipython",
    "version": 3
   },
   "file_extension": ".py",
   "mimetype": "text/x-python",
   "name": "python",
   "nbconvert_exporter": "python",
   "pygments_lexer": "ipython3",
   "version": "3.9.4"
  }
 },
 "nbformat": 4,
 "nbformat_minor": 5
}
