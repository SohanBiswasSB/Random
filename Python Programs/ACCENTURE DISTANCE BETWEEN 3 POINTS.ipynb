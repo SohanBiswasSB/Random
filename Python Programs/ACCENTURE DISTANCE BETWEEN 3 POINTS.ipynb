{
 "cells": [
  {
   "cell_type": "code",
   "execution_count": null,
   "id": "39178792",
   "metadata": {},
   "outputs": [],
   "source": [
    "\"\"\"\n",
    "Instructions: You are required to write the code. You can click on compile & run anytime to check the compilation/ execution status of the program. The submitted code should be logically/syntactically correct and pass all the test cases.\n",
    "\n",
    "Ques: The program is supposed to calculate the distance between three points.\n",
    "\n",
    "For\n",
    "x1 = 1 y1 = 1\n",
    "x2 = 2 y2 = 4\n",
    "x3 = 3 y3 = 6\n",
    "\n",
    "Distance is calculated as : sqrt(x2-x1)2 + (y2-y1)2\n",
    "\n",
    "\"\"\""
   ]
  },
  {
   "cell_type": "code",
   "execution_count": 1,
   "id": "fd92925c",
   "metadata": {},
   "outputs": [
    {
     "name": "stdout",
     "output_type": "stream",
     "text": [
      "3.16 2.24 5.39\n"
     ]
    }
   ],
   "source": [
    "import math\n",
    "\n",
    "x1, y1 = 1, 1\n",
    "x2, y2 = 2, 4\n",
    "x3, y3 = 3, 6\n",
    "\n",
    "first_diff = math.sqrt(math.pow(x2-x1, 2) + math.pow(y2-y1, 2))\n",
    "second_diff = math.sqrt(math.pow(x3-x2, 2) + math.pow(y3-y2, 2))\n",
    "third_diff = math.sqrt(math.pow(x3-x1, 2) + math.pow(y3-y1, 2))\n",
    "\n",
    "print(round(first_diff,2), round(second_diff,2), round(third_diff,2))"
   ]
  },
  {
   "cell_type": "code",
   "execution_count": null,
   "id": "c777fee5",
   "metadata": {},
   "outputs": [],
   "source": []
  }
 ],
 "metadata": {
  "kernelspec": {
   "display_name": "Python 3 (ipykernel)",
   "language": "python",
   "name": "python3"
  },
  "language_info": {
   "codemirror_mode": {
    "name": "ipython",
    "version": 3
   },
   "file_extension": ".py",
   "mimetype": "text/x-python",
   "name": "python",
   "nbconvert_exporter": "python",
   "pygments_lexer": "ipython3",
   "version": "3.9.6"
  }
 },
 "nbformat": 4,
 "nbformat_minor": 5
}
