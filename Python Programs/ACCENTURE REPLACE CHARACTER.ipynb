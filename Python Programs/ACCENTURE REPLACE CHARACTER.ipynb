{
 "cells": [
  {
   "cell_type": "code",
   "execution_count": null,
   "id": "f7769b6b",
   "metadata": {},
   "outputs": [],
   "source": [
    "\"\"\"\n",
    "\n",
    "Problem Statement\n",
    "\n",
    "You are given a function,\n",
    "\n",
    "Void *ReplaceCharacter(Char str[], int n, char ch1, char ch2);\n",
    "\n",
    "The function accepts a string  ‘ str’ of length n and two characters ‘ch1’ and ‘ch2’ as its arguments . Implement the function to modify and return the string ‘ str’ in such a way that all occurrences of ‘ch1’ in original string are replaced by ‘ch2’ and all occurrences of ‘ch2’  in original string are replaced by ‘ch1’.\n",
    "\n",
    "Assumption: String Contains only lower-case alphabetical letters.\n",
    "\n",
    "Note:\n",
    "\n",
    "Return null if string is null.\n",
    "If both characters are not present in string or both of them are same , then return the string unchanged.\n",
    "Example:\n",
    "\n",
    "Input:\n",
    "Str: apples\n",
    "ch1:a\n",
    "ch2:p\n",
    "Output:\n",
    "Paales\n",
    "Explanation:\n",
    "\n",
    "‘A’ in original string is replaced with ‘p’ and ‘p’ in original string is replaced with ‘a’, thus output is paales.\n",
    "\"\"\""
   ]
  },
  {
   "cell_type": "code",
   "execution_count": 1,
   "id": "731bfc54",
   "metadata": {},
   "outputs": [
    {
     "name": "stdout",
     "output_type": "stream",
     "text": [
      "APPLES\n",
      "A P\n",
      "PAALES\n"
     ]
    }
   ],
   "source": [
    "def swap (user_input, str1, str2):\n",
    "\n",
    "    result = ''\n",
    "\n",
    "    if user_input != None:\n",
    "\n",
    "        result = user_input.replace(str1, '*').replace(str2, str1).replace('*', str2)\n",
    "\n",
    "        return result\n",
    "\n",
    "    return 'Null'\n",
    "\n",
    "user_input = input()\n",
    "\n",
    "str1, str2 = map(str,input().split())\n",
    "\n",
    "print(swap(user_input, str1, str2))"
   ]
  },
  {
   "cell_type": "code",
   "execution_count": null,
   "id": "d59740df",
   "metadata": {},
   "outputs": [],
   "source": []
  }
 ],
 "metadata": {
  "kernelspec": {
   "display_name": "Python 3 (ipykernel)",
   "language": "python",
   "name": "python3"
  },
  "language_info": {
   "codemirror_mode": {
    "name": "ipython",
    "version": 3
   },
   "file_extension": ".py",
   "mimetype": "text/x-python",
   "name": "python",
   "nbconvert_exporter": "python",
   "pygments_lexer": "ipython3",
   "version": "3.9.6"
  }
 },
 "nbformat": 4,
 "nbformat_minor": 5
}
