{
 "cells": [
  {
   "cell_type": "code",
   "execution_count": null,
   "id": "47017d95",
   "metadata": {},
   "outputs": [],
   "source": [
    "\"\"\"\n",
    "Given an array of size n, write a function to find the sum of the largest \n",
    "and smallest element in the array.\n",
    "\n",
    "Input specification:\n",
    "Input1: integer n, describing the size of the given array.\n",
    "Input2: integer array, specifying the elements of the array.\n",
    "    \n",
    "Output Specification:\n",
    "Return an integer as the sum of the smallest \n",
    "and the largest elements in the given array.\n",
    "\n",
    "Example 1:\n",
    "Input 1: 4\n",
    "Input 2: {9,5,0,11}\n",
    "Output: 11\n",
    "    \n",
    "Explanation:\n",
    "The largest and smallest elements in the given array are 11 and 0 respectively.\n",
    "Sum of the two elements is 11+0=11\n",
    "\n",
    "Example 2:\n",
    "Input 1: 7\n",
    "Input 2: {-9,15,80,101,4,95,-101}\n",
    "Output: 0\n",
    "    \n",
    "Explanation:\n",
    "The largest and smallest elements in the given array are\n",
    "101 and -101 respectively. Sum of the two elements is 101+(-101)=0\n",
    "\"\"\""
   ]
  },
  {
   "cell_type": "code",
   "execution_count": 8,
   "id": "52bb740d",
   "metadata": {},
   "outputs": [
    {
     "name": "stdout",
     "output_type": "stream",
     "text": [
      "2\n",
      "101,-101\n",
      "0\n"
     ]
    }
   ],
   "source": [
    "n=input()\n",
    "s=list(map(int,input().split(',')))\n",
    "maxi=max(s)\n",
    "mini=min(s)\n",
    "print(maxi+mini)"
   ]
  },
  {
   "cell_type": "code",
   "execution_count": 18,
   "id": "f24d18f2",
   "metadata": {},
   "outputs": [
    {
     "name": "stdout",
     "output_type": "stream",
     "text": [
      "Enter size of array:1\n",
      "Enter 1 array element:1\n",
      "All array elements are:1 2\n"
     ]
    }
   ],
   "source": [
    "import array as arr\n",
    "import numpy as np\n",
    "a = arr.array('i', [])\n",
    "k = int(input(\"Enter size of array:\"))\n",
    "for i in range(0, k):\n",
    "    num = int(input(\"Enter %d array element:\" % (i + 1)))\n",
    "    a.append(num)\n",
    "print(\"All array elements are:\", end=\"\")\n",
    "for i in a:\n",
    "    print(i, end=\" \")\n",
    "high=max(a)\n",
    "low=min(a)\n",
    "print(high+low)"
   ]
  },
  {
   "cell_type": "code",
   "execution_count": null,
   "id": "2b42c567",
   "metadata": {},
   "outputs": [],
   "source": []
  },
  {
   "cell_type": "code",
   "execution_count": null,
   "id": "157abb36",
   "metadata": {},
   "outputs": [],
   "source": []
  }
 ],
 "metadata": {
  "kernelspec": {
   "display_name": "Python 3 (ipykernel)",
   "language": "python",
   "name": "python3"
  },
  "language_info": {
   "codemirror_mode": {
    "name": "ipython",
    "version": 3
   },
   "file_extension": ".py",
   "mimetype": "text/x-python",
   "name": "python",
   "nbconvert_exporter": "python",
   "pygments_lexer": "ipython3",
   "version": "3.9.6"
  }
 },
 "nbformat": 4,
 "nbformat_minor": 5
}
