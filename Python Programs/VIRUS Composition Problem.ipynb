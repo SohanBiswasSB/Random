{
 "cells": [
  {
   "cell_type": "code",
   "execution_count": 1,
   "id": "4ab7784f",
   "metadata": {},
   "outputs": [
    {
     "name": "stdout",
     "output_type": "stream",
     "text": [
      "coronavirus\n",
      "3\n",
      "abcde\n",
      "NEGATIVE\n",
      "crnas\n",
      "POSITIVE\n",
      "onarous\n",
      "NEGATIVE\n"
     ]
    }
   ],
   "source": [
    "\"\"\"\n",
    "coronavirus\n",
    "3\n",
    "abcde\n",
    "crnas\n",
    "onarous\n",
    "\n",
    "\"\"\"\n",
    "# Iterative Python program to check if a\n",
    "# string is a subsequence of another string\n",
    "\n",
    "# Returns true if str1 is a subsequence of str2\n",
    "\n",
    "def main(str1, str2):\n",
    "    m = len(str1)\n",
    "    n = len(str2)\n",
    "\n",
    "    j = 0 # Index of str1\n",
    "    i = 0 # Index of str2\n",
    "\n",
    "    # Traverse both str1 and str2\n",
    "    # Compare the current character of str2 with\n",
    "    # first unmatched character of str1\n",
    "    # If matched, then move ahead in str1\n",
    "\n",
    "    while j < m and i < n:\n",
    "        if str1[j] == str2[i]:\n",
    "            j = j+1\n",
    "        i = i + 1\n",
    "\n",
    "    # If all characters of str1 matched,\n",
    "    # then j is equal to m\n",
    "    return j == m\n",
    "\n",
    "# Driver Program\n",
    "str2 = str(input())\n",
    "N = int(input())\n",
    "\n",
    "for i in range(N):\n",
    "    str1 = str(input())\n",
    "    if main(str1, str2):\n",
    "        print(\"POSITIVE\") \n",
    "    else:\n",
    "        print( \"NEGATIVE\")\n",
    "\n",
    "\n"
   ]
  },
  {
   "cell_type": "code",
   "execution_count": 2,
   "id": "7aad2ca9",
   "metadata": {},
   "outputs": [
    {
     "name": "stdout",
     "output_type": "stream",
     "text": [
      "coronavirus\n",
      "3\n",
      "abcde\n",
      "crnas\n",
      "onarous\n",
      "NEGATIVE\n",
      "POSITIVE\n",
      "NEGATIVE\n"
     ]
    }
   ],
   "source": [
    "def check(s1,s2):\n",
    "    a=len(s1)\n",
    "    b=len(s2)\n",
    "    i=j=0\n",
    "    while j<a and i<b:\n",
    "        if s1[j] == s2[i]:\n",
    "            j+=1\n",
    "        i+=1\n",
    "    return j==a\n",
    "def main():\n",
    "    v=input()\n",
    "    n=int(input())\n",
    "    x=[]\n",
    "    for i in range(n):\n",
    "        x.append(input())\n",
    "    for i in x:\n",
    "        print(\"POSITIVE\" if check(i,v) else \"NEGATIVE\")  \n",
    "main()"
   ]
  },
  {
   "cell_type": "code",
   "execution_count": null,
   "id": "7cfe1e41",
   "metadata": {},
   "outputs": [],
   "source": []
  }
 ],
 "metadata": {
  "kernelspec": {
   "display_name": "Python 3",
   "language": "python",
   "name": "python3"
  },
  "language_info": {
   "codemirror_mode": {
    "name": "ipython",
    "version": 3
   },
   "file_extension": ".py",
   "mimetype": "text/x-python",
   "name": "python",
   "nbconvert_exporter": "python",
   "pygments_lexer": "ipython3",
   "version": "3.9.4"
  }
 },
 "nbformat": 4,
 "nbformat_minor": 5
}
