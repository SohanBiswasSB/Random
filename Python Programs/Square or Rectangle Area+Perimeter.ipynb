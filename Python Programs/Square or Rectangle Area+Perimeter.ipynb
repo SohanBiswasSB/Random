{
 "cells": [
  {
   "cell_type": "code",
   "execution_count": 3,
   "id": "41633457",
   "metadata": {},
   "outputs": [
    {
     "name": "stdout",
     "output_type": "stream",
     "text": [
      "Enter your choice: 1: Square or 2: Rectangle\n",
      "None2\n",
      "length\n",
      "None5\n",
      "breadth\n",
      "None5\n",
      "Area: 25\n",
      "Perimeter: 20\n"
     ]
    }
   ],
   "source": [
    "choice=int(input(print(\"Enter your choice: 1: Square or 2: Rectangle\")))\n",
    "def sol(choice):\n",
    "    if choice==1:\n",
    "        a=int(input(\"Enter Side:\"))\n",
    "        print(\"Area\",a*a)\n",
    "        print(\"Perimeter:\",2*a)\n",
    "    elif choice==2:\n",
    "        l=int(input(print(\"length\")))\n",
    "        b=int(input(print(\"breadth\")))\n",
    "        print(\"Area:\",l*b)\n",
    "        print(\"Perimeter:\",(2*(l+b)))\n",
    "    else:\n",
    "        print(\"Bad input\")\n",
    "sol(choice)"
   ]
  },
  {
   "cell_type": "code",
   "execution_count": null,
   "id": "7ae49f46",
   "metadata": {},
   "outputs": [],
   "source": []
  },
  {
   "cell_type": "code",
   "execution_count": null,
   "id": "17cd7d14",
   "metadata": {},
   "outputs": [],
   "source": []
  },
  {
   "cell_type": "code",
   "execution_count": null,
   "id": "1ed1ef56",
   "metadata": {},
   "outputs": [],
   "source": []
  },
  {
   "cell_type": "code",
   "execution_count": null,
   "id": "55488a7d",
   "metadata": {},
   "outputs": [],
   "source": []
  },
  {
   "cell_type": "code",
   "execution_count": null,
   "id": "f4f84107",
   "metadata": {},
   "outputs": [],
   "source": []
  }
 ],
 "metadata": {
  "kernelspec": {
   "display_name": "Python 3",
   "language": "python",
   "name": "python3"
  },
  "language_info": {
   "codemirror_mode": {
    "name": "ipython",
    "version": 3
   },
   "file_extension": ".py",
   "mimetype": "text/x-python",
   "name": "python",
   "nbconvert_exporter": "python",
   "pygments_lexer": "ipython3",
   "version": "3.9.4"
  }
 },
 "nbformat": 4,
 "nbformat_minor": 5
}
