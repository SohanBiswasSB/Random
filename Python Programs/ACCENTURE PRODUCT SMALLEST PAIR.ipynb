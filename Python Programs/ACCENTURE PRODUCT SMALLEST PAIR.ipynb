{
 "cells": [
  {
   "cell_type": "code",
   "execution_count": null,
   "id": "192bed9d",
   "metadata": {},
   "outputs": [],
   "source": [
    "\"\"\"\n",
    "Implement the following Function\n",
    "\n",
    "def ProductSmallestPair(sum, arr)\n",
    "\n",
    "The function accepts an integers sum and an integer array arr of size n. Implement the function to find the pair, (arr[j], arr[k]) where j!=k, Such that arr[j] and arr[k] are the least two elements of array (arr[j] + arr[k] <= sum) and return the product of element of this pair\n",
    "\n",
    "NOTE\n",
    "\n",
    "Return -1 if array is empty or if n<2\n",
    "Return 0, if no such pairs found\n",
    "All computed values lie within integer range\n",
    "Example\n",
    "\n",
    "Input\n",
    "\n",
    "sum:9\n",
    "\n",
    "Arr:5 2 4 3 9 7 1\n",
    "\n",
    "Output\n",
    "\n",
    "2\n",
    "\n",
    "Explanation\n",
    "\n",
    "Pair of least two element is (2, 1) 2 + 1 = 3 < 9, Product of (2, 1) 2*1 = 2. Thus, output is 2\n",
    "\n",
    "Sample Input\n",
    "\n",
    "sum:4\n",
    "\n",
    "Arr:9 8 3 -7 3 9\n",
    "\n",
    "Sample Output\n",
    "\n",
    "-21\n",
    "\n",
    "\"\"\""
   ]
  },
  {
   "cell_type": "code",
   "execution_count": 1,
   "id": "343dae18",
   "metadata": {},
   "outputs": [
    {
     "name": "stdout",
     "output_type": "stream",
     "text": [
      "6\n",
      "4\n",
      "9 8 3 -7 3 9\n",
      "-21\n"
     ]
    }
   ],
   "source": [
    "n = int(input())\n",
    "sum1 = int(input())\n",
    "arr = list(map(int, input().split()))\n",
    "if n < 2:\n",
    "    print('-1')\n",
    "arr = sorted(arr)\n",
    "for i in range(n-1):\n",
    "    if arr[i] + arr[i+1] < sum1:\n",
    "        print(arr[i] * arr[i+1])\n",
    "        break\n",
    "else:\n",
    "    print('0')"
   ]
  },
  {
   "cell_type": "code",
   "execution_count": null,
   "id": "8daa1a6b",
   "metadata": {},
   "outputs": [],
   "source": []
  }
 ],
 "metadata": {
  "kernelspec": {
   "display_name": "Python 3 (ipykernel)",
   "language": "python",
   "name": "python3"
  },
  "language_info": {
   "codemirror_mode": {
    "name": "ipython",
    "version": 3
   },
   "file_extension": ".py",
   "mimetype": "text/x-python",
   "name": "python",
   "nbconvert_exporter": "python",
   "pygments_lexer": "ipython3",
   "version": "3.9.6"
  }
 },
 "nbformat": 4,
 "nbformat_minor": 5
}
