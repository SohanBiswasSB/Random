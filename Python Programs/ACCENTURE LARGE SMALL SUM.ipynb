{
 "cells": [
  {
   "cell_type": "code",
   "execution_count": null,
   "id": "785c8054",
   "metadata": {},
   "outputs": [],
   "source": [
    "\"\"\"\n",
    "\n",
    "You are required to implement the following Function \n",
    "\n",
    "def LargeSmallSum(arr)\n",
    "\n",
    "The function accepts an integers arr of size ’length’ as its arguments you are required to return the sum of second largest largest element from the even positions and second smallest from the odd position of given ‘arr’\n",
    "\n",
    "Assumption:\n",
    "\n",
    "All array elements are unique\n",
    "Treat the 0th position a seven\n",
    "NOTE\n",
    "\n",
    "Return 0 if array is empty\n",
    "Return 0, if array length is 3 or less than 3\n",
    "Example\n",
    "\n",
    "Input\n",
    "\n",
    "arr:3 2 1 7 5 4\n",
    "\n",
    "Output\n",
    "\n",
    "7\n",
    "\n",
    "Explanation\n",
    "\n",
    "Second largest among even position elements(1 3 5) is 3\n",
    "Second largest among odd position element is 4\n",
    "Thus output is 3+4 = 7\n",
    "Sample Input\n",
    "\n",
    "arr:1 8 0 2 3 5 6\n",
    "\n",
    "Sample Output\n",
    "\n",
    "8\n",
    "\n",
    "\"\"\"\n"
   ]
  },
  {
   "cell_type": "code",
   "execution_count": 2,
   "id": "d5986b5d",
   "metadata": {},
   "outputs": [
    {
     "name": "stdout",
     "output_type": "stream",
     "text": [
      "7\n",
      "1 8 0 2 3 5 6\n",
      "8\n"
     ]
    }
   ],
   "source": [
    "length = int(input())\n",
    "arr = list(map(int, input().split()))\n",
    "even_arr = []\n",
    "odd_arr = []\n",
    "for i in range(length):\n",
    "    if i % 2 == 0:\n",
    "        even_arr.append(arr[i])\n",
    "    else:\n",
    "        odd_arr.append(arr[i])\n",
    "even_arr = sorted(even_arr)\n",
    "odd_arr = sorted(odd_arr)\n",
    "print(even_arr[len(even_arr)-2] + odd_arr[len(odd_arr)-2])"
   ]
  },
  {
   "cell_type": "code",
   "execution_count": null,
   "id": "5d9768bb",
   "metadata": {},
   "outputs": [],
   "source": []
  }
 ],
 "metadata": {
  "kernelspec": {
   "display_name": "Python 3 (ipykernel)",
   "language": "python",
   "name": "python3"
  },
  "language_info": {
   "codemirror_mode": {
    "name": "ipython",
    "version": 3
   },
   "file_extension": ".py",
   "mimetype": "text/x-python",
   "name": "python",
   "nbconvert_exporter": "python",
   "pygments_lexer": "ipython3",
   "version": "3.9.6"
  }
 },
 "nbformat": 4,
 "nbformat_minor": 5
}
