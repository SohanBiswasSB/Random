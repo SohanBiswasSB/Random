{
 "cells": [
  {
   "cell_type": "code",
   "execution_count": null,
   "id": "7dcce8fa",
   "metadata": {},
   "outputs": [],
   "source": [
    "\"\"\"\n",
    "Implement the following functions.a\n",
    "\n",
    "char*MoveHyphen(char str[],int n);\n",
    "\n",
    "The function accepts a string “str” of length ‘n’, that contains alphabets and hyphens (-). Implement the function to move all hyphens(.) in the string to the front of the given string.\n",
    "\n",
    "NOTE:- Return null if str is null.\n",
    "\n",
    "Example :-\n",
    "\n",
    "Input:\n",
    "str.Move-Hyphens-to-Front\n",
    "Output:\n",
    "-MoveHyphenstoFront\n",
    "Explanation:-\n",
    "\n",
    "The string “Move-Hyphens -to-front” has 3 hyphens (.), which are moved to the front of the string, this output is “— MoveHyphen”\n",
    "\n",
    "Sample Input\n",
    "\n",
    "Str: String-Compare\n",
    "Sample Output-\n",
    "\n",
    "-StringCompare\n",
    "\n",
    "\"\"\""
   ]
  },
  {
   "cell_type": "code",
   "execution_count": 1,
   "id": "b17f2057",
   "metadata": {},
   "outputs": [
    {
     "name": "stdout",
     "output_type": "stream",
     "text": [
      "MOVE-HYPHEN-TO-FRONT\n",
      "--- MOVEHYPHENTOFRONT\n"
     ]
    }
   ],
   "source": [
    "inp = input()\n",
    "count = 0\n",
    "final = \"\"\n",
    "for i in inp:\n",
    "    if i == '-':\n",
    "        count+=1\n",
    "    else:\n",
    "        final+=i\n",
    "print(\"-\"*count,final)"
   ]
  },
  {
   "cell_type": "code",
   "execution_count": null,
   "id": "471a8dc8",
   "metadata": {},
   "outputs": [],
   "source": []
  }
 ],
 "metadata": {
  "kernelspec": {
   "display_name": "Python 3 (ipykernel)",
   "language": "python",
   "name": "python3"
  },
  "language_info": {
   "codemirror_mode": {
    "name": "ipython",
    "version": 3
   },
   "file_extension": ".py",
   "mimetype": "text/x-python",
   "name": "python",
   "nbconvert_exporter": "python",
   "pygments_lexer": "ipython3",
   "version": "3.9.6"
  }
 },
 "nbformat": 4,
 "nbformat_minor": 5
}
