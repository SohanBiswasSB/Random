{
 "cells": [
  {
   "cell_type": "code",
   "execution_count": 1,
   "id": "3a3968e9",
   "metadata": {},
   "outputs": [
    {
     "data": {
      "text/plain": [
       "'\\n\\n'"
      ]
     },
     "execution_count": 1,
     "metadata": {},
     "output_type": "execute_result"
    }
   ],
   "source": [
    "\"\"\"\n",
    "\n",
    "Find the maximum value and its index in the array\n",
    "\n",
    "Problem Statement :\n",
    "\n",
    "You are given a function, void MaxInArray(int arr[], int length); The function accepts an integer array ‘arr’ of size ‘length’ as its argument. Implement the function to find the maximum element of the array and print the maximum element and its index to the standard output \n",
    "\n",
    "(STDOUT). The maximum element and its index should be printed in separate lines.\n",
    "\n",
    "Note: \n",
    "\n",
    "Array index starts with 0 \n",
    "Maximum element and its index should be separated by a line in the output \n",
    "Assume there is only 1 maximum element in the array \n",
    "Print exactly what is asked, do not print any additional greeting messages \n",
    "Example: \n",
    "\n",
    "Input: \n",
    "\n",
    "23 45 82 27 66 12 78 13 71 86 \n",
    "\n",
    "Output: \n",
    "\n",
    "86 \n",
    "\n",
    "9 \n",
    "\n",
    "Explanation: \n",
    "\n",
    "86 is the maximum element of the array at index 9. \n",
    "\n",
    "\n",
    "\"\"\""
   ]
  },
  {
   "cell_type": "code",
   "execution_count": null,
   "id": "66f983b1",
   "metadata": {},
   "outputs": [],
   "source": [
    "import java.util.*;\n",
    "class Main\n",
    "{\n",
    "    public static void maxInArray (int arr[], int length) \n",
    "    {\n",
    "        int max = arr[0], index = 0;\n",
    "        \n",
    "        for (int i = 1; i < length; i++)\n",
    "            if (arr[i] > max)\n",
    "        \t{\n",
    "                max = arr[i];\n",
    "                index = i;\n",
    "            }\n",
    "    \n",
    "        System.out.println (max);\n",
    "\n",
    "        System.out.println (index);\n",
    "    }\n",
    "    public static void main (String[]args) \n",
    "    {\n",
    "        Scanner sc = new Scanner (System.in);\n",
    "        int n = sc.nextInt ();\n",
    "        int arr[] = new int[n];\n",
    "    \n",
    "        for (int i = 0; i < n; i++)\n",
    "            arr[i] = sc.nextInt ();\n",
    "    \n",
    "        maxInArray (arr, arr.length);\n",
    "    } \n",
    "} "
   ]
  }
 ],
 "metadata": {
  "kernelspec": {
   "display_name": "Python 3 (ipykernel)",
   "language": "python",
   "name": "python3"
  },
  "language_info": {
   "codemirror_mode": {
    "name": "ipython",
    "version": 3
   },
   "file_extension": ".py",
   "mimetype": "text/x-python",
   "name": "python",
   "nbconvert_exporter": "python",
   "pygments_lexer": "ipython3",
   "version": "3.9.6"
  }
 },
 "nbformat": 4,
 "nbformat_minor": 5
}
