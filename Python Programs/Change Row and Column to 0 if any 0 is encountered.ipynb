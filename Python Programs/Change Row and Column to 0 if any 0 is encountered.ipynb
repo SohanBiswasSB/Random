{
 "cells": [
  {
   "cell_type": "code",
   "execution_count": 4,
   "id": "5e44e607",
   "metadata": {},
   "outputs": [
    {
     "name": "stdout",
     "output_type": "stream",
     "text": [
      "[0, 0, 0, 0, 0]\n",
      "[-11, 1, 0, 1, 1]\n",
      "[1, 1, 0, 1, 1]\n",
      "[1, 1, 0, 1, 0]\n",
      "[70, 1, 0, 1, 1]\n"
     ]
    }
   ],
   "source": [
    "# Function to change all elements of row `x` and column `y` to -1\n",
    "def changeRowColumn(mat, M, N, x, y):\n",
    " \n",
    "    for j in range(N):\n",
    "        if mat[x][j]:\n",
    "            mat[x][j] = -1\n",
    " \n",
    "    for i in range(M):\n",
    "        if mat[i][y]:\n",
    "            mat[i][y] = -1\n",
    " \n",
    " \n",
    "# Function to convert the matrix\n",
    "def convert(mat):\n",
    " \n",
    "    # `M × N` matrix\n",
    "    (M, N) = (len(mat), len(mat[0]))\n",
    " \n",
    "    # traverse the matrix\n",
    "    for i in range(M):\n",
    "        for j in range(N):\n",
    "            if mat[i][j] == 0:      # cell `(i, j)` has value 0\n",
    "                # change each non-zero element in row `i` and column `j` to -1\n",
    "                changeRowColumn(mat, M, N, i, j)\n",
    " \n",
    "    # traverse the matrix once again and replace cells having\n",
    "    # value -1 with 0\n",
    "    for i in range(M):\n",
    "        for j in range(N):\n",
    "            if mat[i][j] == -1:\n",
    "                mat[i][j] = 0\n",
    " \n",
    " \n",
    "if __name__ == '__main__':\n",
    " \n",
    "    mat = [\n",
    "        [-1, 1, 0, 1, 1],\n",
    "        [-11, 1, 1, 1, 1],\n",
    "        [1, 1, 5, 1, 1],\n",
    "        [1, 1, 1, 1, -1],\n",
    "        [70, 1, 1, 1, 1]\n",
    "    ]\n",
    " \n",
    "    # convert the matrix\n",
    "    convert(mat)\n",
    " \n",
    "    # print matrix\n",
    "    for r in mat:\n",
    "        print(r)"
   ]
  },
  {
   "cell_type": "code",
   "execution_count": null,
   "id": "222e3ded",
   "metadata": {},
   "outputs": [],
   "source": []
  }
 ],
 "metadata": {
  "kernelspec": {
   "display_name": "Python 3",
   "language": "python",
   "name": "python3"
  },
  "language_info": {
   "codemirror_mode": {
    "name": "ipython",
    "version": 3
   },
   "file_extension": ".py",
   "mimetype": "text/x-python",
   "name": "python",
   "nbconvert_exporter": "python",
   "pygments_lexer": "ipython3",
   "version": "3.9.4"
  }
 },
 "nbformat": 4,
 "nbformat_minor": 5
}
