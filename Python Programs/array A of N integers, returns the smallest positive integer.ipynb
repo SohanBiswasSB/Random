{
 "cells": [
  {
   "cell_type": "code",
   "execution_count": 3,
   "id": "a619c03f",
   "metadata": {},
   "outputs": [
    {
     "data": {
      "text/plain": [
       "'\\nWrite a function:\\n\\ndef solution(A)\\n\\nthat, given an array A of N integers, returns the smallest positive integer (greater than 0) that does not occur in A.\\n\\nFor example, given A = [1, 3, 6, 4, 1, 2], the function should return 5.\\n\\nGiven A = [1, 2, 3], the function should return 4.\\n\\nGiven A = [−1, −3], the function should return 1.\\n\\nWrite an efficient algorithm for the following assumptions:\\n\\nN is an integer within the range [1..100,000];\\neach element of array A is an integer within the range [−1,000,000..1,000,000].\\n\\n'"
      ]
     },
     "execution_count": 3,
     "metadata": {},
     "output_type": "execute_result"
    }
   ],
   "source": [
    "\"\"\"\n",
    "Write a function:\n",
    "\n",
    "def solution(A)\n",
    "\n",
    "that, given an array A of N integers, returns the smallest positive integer (greater than 0) that does not occur in A.\n",
    "\n",
    "For example, given A = [1, 3, 6, 4, 1, 2], the function should return 5.\n",
    "\n",
    "Given A = [1, 2, 3], the function should return 4.\n",
    "\n",
    "Given A = [−1, −3], the function should return 1.\n",
    "\n",
    "Write an efficient algorithm for the following assumptions:\n",
    "\n",
    "N is an integer within the range [1..100,000];\n",
    "each element of array A is an integer within the range [−1,000,000..1,000,000].\n",
    "\n",
    "\"\"\""
   ]
  },
  {
   "cell_type": "code",
   "execution_count": 7,
   "id": "47ea2270",
   "metadata": {},
   "outputs": [
    {
     "name": "stdout",
     "output_type": "stream",
     "text": [
      "Enter the range value from 1 to 100,000:3\n",
      "Enter the list values within the range −1,000,000..1,000,000:\n",
      "1\n",
      "2\n",
      "3\n",
      "[1, 2, 3]\n",
      "4\n"
     ]
    }
   ],
   "source": [
    "def solution(A):\n",
    "    if max(A) <= 0:\n",
    "        return 1\n",
    "    m=max(A)\n",
    "    A = set(A)\n",
    "    B = set(range(1, m + 1))\n",
    "    D = B - A\n",
    "    if len(D) == 0:\n",
    "        return m + 1\n",
    "    else:\n",
    "        return min(D)\n",
    "\n",
    "\n",
    "n=int(input(\"Enter the range value from 1 to 100,000:\"))\n",
    "A=[]\n",
    "print(\"Enter the list values within the range −1,000,000..1,000,000:\")\n",
    "for i in range(0,n):\n",
    "    elements=int(input())\n",
    "    A.append(elements)\n",
    "A.sort()\n",
    "print(A)\n",
    "                    \n",
    "print(solution(A))\n",
    "    "
   ]
  },
  {
   "cell_type": "code",
   "execution_count": null,
   "id": "cffa185c",
   "metadata": {},
   "outputs": [],
   "source": []
  },
  {
   "cell_type": "code",
   "execution_count": null,
   "id": "4f68b0dc",
   "metadata": {},
   "outputs": [],
   "source": []
  },
  {
   "cell_type": "code",
   "execution_count": null,
   "id": "f9d9db33",
   "metadata": {},
   "outputs": [],
   "source": []
  },
  {
   "cell_type": "code",
   "execution_count": null,
   "id": "d1a08511",
   "metadata": {},
   "outputs": [],
   "source": []
  }
 ],
 "metadata": {
  "kernelspec": {
   "display_name": "Python 3",
   "language": "python",
   "name": "python3"
  },
  "language_info": {
   "codemirror_mode": {
    "name": "ipython",
    "version": 3
   },
   "file_extension": ".py",
   "mimetype": "text/x-python",
   "name": "python",
   "nbconvert_exporter": "python",
   "pygments_lexer": "ipython3",
   "version": "3.9.4"
  }
 },
 "nbformat": 4,
 "nbformat_minor": 5
}
