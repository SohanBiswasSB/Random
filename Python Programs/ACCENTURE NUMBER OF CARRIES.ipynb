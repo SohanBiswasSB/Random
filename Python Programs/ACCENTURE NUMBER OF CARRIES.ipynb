{
 "cells": [
  {
   "cell_type": "code",
   "execution_count": null,
   "id": "59882294",
   "metadata": {},
   "outputs": [],
   "source": [
    "\"\"\"\n",
    "Problem Statement\n",
    "\n",
    "A carry is a digit that is transferred to left if sum of digits exceeds 9 while adding two numbers from right-to-left one digit at a time\n",
    "\n",
    "You are required to implement the following function.\n",
    "\n",
    "Int NumberOfCarries(int num1 , int num2);\n",
    "\n",
    "The functions accepts two numbers ‘num1’ and ‘num2’ as its arguments. You are required to calculate and return  the total number of carries generated while adding digits of two numbers ‘num1’ and ‘ num2’.\n",
    "\n",
    "Assumption: num1, num2>=0\n",
    "\n",
    "Example:\n",
    "\n",
    "Input\n",
    "Num 1: 451\n",
    "Num 2: 349\n",
    "Output\n",
    "2\n",
    "Explanation:\n",
    "\n",
    "Adding ‘num 1’ and ‘num 2’ right-to-left results in 2 carries since ( 1+9) is 10. 1 is carried and (5+4=1) is 10, again 1 is carried. Hence 2 is returned.\n",
    "\n",
    "Sample Input\n",
    "\n",
    "Num 1: 23\n",
    "\n",
    "Num 2: 563\n",
    "\n",
    "Sample Output\n",
    "\n",
    "0\n",
    "\n",
    "\"\"\""
   ]
  },
  {
   "cell_type": "code",
   "execution_count": 1,
   "id": "7a08f1cb",
   "metadata": {},
   "outputs": [
    {
     "name": "stdout",
     "output_type": "stream",
     "text": [
      "23\n",
      "563\n",
      "0\n"
     ]
    }
   ],
   "source": [
    "def NumberOfCarries(n1,n2):\n",
    "\n",
    "    count=0\n",
    "\n",
    "    carry = 0\n",
    "\n",
    "    if len(n1) <= len(n2):\n",
    "\n",
    "        l= len(n1)-1\n",
    "\n",
    "    else:\n",
    "\n",
    "        l = len(n2)-1\n",
    "\n",
    "    for i in range(l+1):\n",
    "\n",
    "        temp = int(n1[l-i])+int(n2[l-i])+carry\n",
    "\n",
    "        if len(str(temp))>1:\n",
    "\n",
    "            count+=1\n",
    "\n",
    "            carry = 1\n",
    "\n",
    "        else:\n",
    "\n",
    "            carry = 0\n",
    "\n",
    "    return count+carry\n",
    "\n",
    "n1=input()\n",
    "n2=input()\n",
    "print(NumberOfCarries(n1,n2))\n"
   ]
  },
  {
   "cell_type": "code",
   "execution_count": null,
   "id": "ad2a5db7",
   "metadata": {},
   "outputs": [],
   "source": []
  }
 ],
 "metadata": {
  "kernelspec": {
   "display_name": "Python 3 (ipykernel)",
   "language": "python",
   "name": "python3"
  },
  "language_info": {
   "codemirror_mode": {
    "name": "ipython",
    "version": 3
   },
   "file_extension": ".py",
   "mimetype": "text/x-python",
   "name": "python",
   "nbconvert_exporter": "python",
   "pygments_lexer": "ipython3",
   "version": "3.9.6"
  }
 },
 "nbformat": 4,
 "nbformat_minor": 5
}
