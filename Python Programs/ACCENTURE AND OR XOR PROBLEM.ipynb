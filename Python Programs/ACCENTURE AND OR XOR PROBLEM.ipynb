{
 "cells": [
  {
   "cell_type": "code",
   "execution_count": null,
   "id": "330a410a",
   "metadata": {},
   "outputs": [],
   "source": [
    "\"\"\"\n",
    "The Binary number system only uses two digits, 0 and number system can be called binary string. You are required to implement the following function:\n",
    "\n",
    "int OperationsBinaryString(char* str);\n",
    "\n",
    "The function accepts a string str as its argument. The string str consists of binary digits eparated with an alphabet as follows:\n",
    "\n",
    "– A denotes AND operation\n",
    "– B denotes OR operation\n",
    "– C denotes XOR Operation\n",
    "You are required to calculate the result of the string str, scanning the string to right taking one opearation at a time, and return the same.\n",
    "\n",
    "Note:\n",
    "\n",
    "No order of priorities of operations is required\n",
    "Length of str is odd\n",
    "If str is NULL or None (in case of Python), return -1\n",
    "Input:\n",
    "\n",
    "str: 1C0C1C1A0B1\n",
    "\n",
    "Output:\n",
    "\n",
    "1\n",
    "\n",
    "Explanation:\n",
    "\n",
    "The alphabets in str when expanded becomes “1 XOR 0 XOR 1 XOR 1 AND 0 OR 1”, result of the expression becomes q, hence 1 is returned.\n",
    "\n",
    "Sample Input:\n",
    "\n",
    "0C1A1B1C1C1B0A0\n",
    "\n",
    "Output:\n",
    "\n",
    "0\n",
    "\n",
    "\"\"\""
   ]
  },
  {
   "cell_type": "code",
   "execution_count": 1,
   "id": "04c0a2dd",
   "metadata": {},
   "outputs": [
    {
     "name": "stdout",
     "output_type": "stream",
     "text": [
      "1C0C1C1A0B1\n",
      "1\n"
     ]
    }
   ],
   "source": [
    "def OperationsBinaryString(str):\n",
    "    a=int(str[0])\n",
    "    i=1\n",
    "    while i<len(str):\n",
    "        if str[i]=='A':\n",
    "            a&=int(str[i+1])\n",
    "        elif str[i]=='B':\n",
    "            a|=int(str[i+1])\n",
    "        else:\n",
    "            a^=int(str[i+1])\n",
    "        i+=2\n",
    "    return a\n",
    " \n",
    "str=input()\n",
    "print(OperationsBinaryString(str))"
   ]
  },
  {
   "cell_type": "code",
   "execution_count": null,
   "id": "54c6712a",
   "metadata": {},
   "outputs": [],
   "source": []
  }
 ],
 "metadata": {
  "kernelspec": {
   "display_name": "Python 3 (ipykernel)",
   "language": "python",
   "name": "python3"
  },
  "language_info": {
   "codemirror_mode": {
    "name": "ipython",
    "version": 3
   },
   "file_extension": ".py",
   "mimetype": "text/x-python",
   "name": "python",
   "nbconvert_exporter": "python",
   "pygments_lexer": "ipython3",
   "version": "3.9.6"
  }
 },
 "nbformat": 4,
 "nbformat_minor": 5
}
