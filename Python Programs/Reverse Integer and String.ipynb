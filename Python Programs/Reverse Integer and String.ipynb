{
 "cells": [
  {
   "cell_type": "code",
   "execution_count": null,
   "id": "ba1e43b0",
   "metadata": {},
   "outputs": [],
   "source": [
    "# Given an integer, return the integer with reversed digits.\n",
    "# Note: The integer could be either positive or negative."
   ]
  },
  {
   "cell_type": "code",
   "execution_count": null,
   "id": "2c2ff7b3",
   "metadata": {},
   "outputs": [],
   "source": [
    "import math\n",
    "n=int(input(\"Enter the integer: \"))\n",
    "if n>0:\n",
    "    rev=0\n",
    "    while n>0:\n",
    "        a=n%10\n",
    "        rev=rev*10+a\n",
    "        n=n//10\n",
    "    print(rev)\n",
    "elif n<0:\n",
    "    rev=0\n",
    "    n=int(math.pow(n, 2))\n",
    "    n=math.isqrt(n)\n",
    "    while n>0:\n",
    "        a=n%10\n",
    "        rev=rev*10+a\n",
    "        n=n//10\n",
    "    print('-',rev)\n",
    "else:\n",
    "    print(\"0\")\n",
    "    "
   ]
  },
  {
   "cell_type": "code",
   "execution_count": null,
   "id": "218ec180",
   "metadata": {},
   "outputs": [],
   "source": []
  },
  {
   "cell_type": "code",
   "execution_count": null,
   "id": "f9007489",
   "metadata": {},
   "outputs": [],
   "source": [
    "\"\"\"\n",
    "import math\n",
    "n=-55\n",
    "n=int(math.pow(n, 2))\n",
    "n=math.isqrt(n)\n",
    "print(n)\n",
    "\n",
    "\"\"\""
   ]
  },
  {
   "cell_type": "code",
   "execution_count": 2,
   "id": "08c7ae74",
   "metadata": {},
   "outputs": [
    {
     "name": "stdout",
     "output_type": "stream",
     "text": [
      "Enter your string:abcd\n",
      "db\n",
      "dcba\n",
      "abcd\n",
      "ac\n"
     ]
    }
   ],
   "source": [
    "txt=str(input(\"Enter your string:\"))\n",
    "print(txt[::-2])\n",
    "print(txt[::-1])\n",
    "\n",
    "print(txt[::1])\n",
    "print(txt[::2])"
   ]
  },
  {
   "cell_type": "code",
   "execution_count": null,
   "id": "c5b3642c",
   "metadata": {},
   "outputs": [],
   "source": []
  }
 ],
 "metadata": {
  "kernelspec": {
   "display_name": "Python 3",
   "language": "python",
   "name": "python3"
  },
  "language_info": {
   "codemirror_mode": {
    "name": "ipython",
    "version": 3
   },
   "file_extension": ".py",
   "mimetype": "text/x-python",
   "name": "python",
   "nbconvert_exporter": "python",
   "pygments_lexer": "ipython3",
   "version": "3.9.4"
  }
 },
 "nbformat": 4,
 "nbformat_minor": 5
}
