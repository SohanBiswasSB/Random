{
 "cells": [
  {
   "cell_type": "code",
   "execution_count": null,
   "id": "6039388e",
   "metadata": {},
   "outputs": [],
   "source": [
    "\"\"\"\n",
    "Instructions: You are required to write the code. You can click on compile and run anytime to check compilation/execution status. The code should be logically/syntactically correct.\n",
    "\n",
    "Problem: Write a program in C to display the table of a number and print the sum of all the multiples in it.\n",
    "\n",
    "Test Cases:\n",
    "\n",
    "Test Case 1:\n",
    "Input:\n",
    "5\n",
    "Expected Result Value:\n",
    "5, 10, 15, 20, 25, 30, 35, 40, 45, 50\n",
    "275\n",
    "\n",
    "Test Case 2:\n",
    "Input:\n",
    "12\n",
    "Expected Result Value:\n",
    "12, 24, 36, 48, 60, 72, 84, 96, 108, 120\n",
    "660\n",
    "\n",
    "\n",
    "\"\"\""
   ]
  },
  {
   "cell_type": "code",
   "execution_count": 2,
   "id": "76cf29b5",
   "metadata": {},
   "outputs": [
    {
     "name": "stdout",
     "output_type": "stream",
     "text": [
      "12\n",
      "12 24 36 48 60 72 84 96 108 120 \n",
      "660\n"
     ]
    }
   ],
   "source": [
    "table_number = int(input())\n",
    "sum = 0\n",
    "for i in range(1, 11):\n",
    "    value = table_number * i\n",
    "    print(value, end=\" \")\n",
    "    sum = sum + value\n",
    "\n",
    "print()\n",
    "print(sum)"
   ]
  },
  {
   "cell_type": "code",
   "execution_count": null,
   "id": "88128712",
   "metadata": {},
   "outputs": [],
   "source": []
  }
 ],
 "metadata": {
  "kernelspec": {
   "display_name": "Python 3 (ipykernel)",
   "language": "python",
   "name": "python3"
  },
  "language_info": {
   "codemirror_mode": {
    "name": "ipython",
    "version": 3
   },
   "file_extension": ".py",
   "mimetype": "text/x-python",
   "name": "python",
   "nbconvert_exporter": "python",
   "pygments_lexer": "ipython3",
   "version": "3.9.6"
  }
 },
 "nbformat": 4,
 "nbformat_minor": 5
}
