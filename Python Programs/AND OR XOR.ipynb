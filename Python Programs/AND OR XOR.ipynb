{
 "cells": [
  {
   "cell_type": "code",
   "execution_count": 2,
   "id": "2c028dc4",
   "metadata": {},
   "outputs": [
    {
     "name": "stdout",
     "output_type": "stream",
     "text": [
      "Enter your string:1A1\n"
     ]
    },
    {
     "data": {
      "text/plain": [
       "1"
      ]
     },
     "execution_count": 2,
     "metadata": {},
     "output_type": "execute_result"
    }
   ],
   "source": [
    "'''A=& #AND\n",
    "B= | #OR\n",
    "C=^ #XOR'''\n",
    "import re\n",
    "str=input(\"Enter your string:\")\n",
    "def cal(str):\n",
    "    value=0\n",
    "    num=re.findall('\\d',str)\n",
    "    num=list(map(int, num))\n",
    "    strs=re.findall(\"[A-Z]\",str)\n",
    "    for i in range(len(strs)):\n",
    "        if strs[i]==\"A\":\n",
    "            value=num[i] & num[i+1]\n",
    "            num[i+1]=value\n",
    "        elif strs[i]==\"B\":\n",
    "            value=num[i] | num[i+1]\n",
    "            num[i+1]=value\n",
    "        elif strs[i]==\"C\":\n",
    "            value=num[i] ^ num[i+1]\n",
    "            num[i+1]=value\n",
    "    return value\n",
    "cal(str)\n",
    "        \n",
    "                \n",
    "                \n",
    "                \n",
    "        \n",
    "        \n",
    "    \n"
   ]
  },
  {
   "cell_type": "code",
   "execution_count": null,
   "id": "e6c1080d",
   "metadata": {},
   "outputs": [],
   "source": []
  },
  {
   "cell_type": "code",
   "execution_count": null,
   "id": "d62ade28",
   "metadata": {},
   "outputs": [],
   "source": [
    "\"\"\"\n",
    "import re\n",
    "str=input(\"Enter your string:\")\n",
    "print(str)\n",
    "numbers=re.findall('\\d',str) \n",
    "#\\d+ for finding total digits\n",
    "numbers = list(map(int, numbers))\n",
    "print(numbers)\n",
    "\"\"\""
   ]
  },
  {
   "cell_type": "code",
   "execution_count": null,
   "id": "d5b2906b",
   "metadata": {},
   "outputs": [],
   "source": [
    "\"\"\"\n",
    "import re\n",
    "str=input(\"Enter your string:\")\n",
    "print(str)\n",
    "strs=re.findall(\"[A-Z]\",str) \n",
    "#\\d+ for finding total digits\n",
    "print(strs)\n",
    "\"\"\""
   ]
  },
  {
   "cell_type": "code",
   "execution_count": null,
   "id": "339b734e",
   "metadata": {},
   "outputs": [],
   "source": []
  }
 ],
 "metadata": {
  "kernelspec": {
   "display_name": "Python 3",
   "language": "python",
   "name": "python3"
  },
  "language_info": {
   "codemirror_mode": {
    "name": "ipython",
    "version": 3
   },
   "file_extension": ".py",
   "mimetype": "text/x-python",
   "name": "python",
   "nbconvert_exporter": "python",
   "pygments_lexer": "ipython3",
   "version": "3.9.4"
  }
 },
 "nbformat": 4,
 "nbformat_minor": 5
}
