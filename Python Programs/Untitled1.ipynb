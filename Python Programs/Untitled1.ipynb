{
 "cells": [
  {
   "cell_type": "code",
   "execution_count": null,
   "id": "578b13ed",
   "metadata": {},
   "outputs": [],
   "source": [
    "\"\"\"\n",
    "Avery has an array of N positive integers. The i-th integer of the array is A[i].\n",
    "\n",
    "A contiguous subarray is an m-countdown if it is of length m and contains the \n",
    "integers m, m-1, m-2, ..., 2, 1 in that order. \n",
    "For example, [3, 2, 1] is a 3-countdown.\n",
    "\n",
    "Can you help Avery count the number of K-countdowns in her array?\n",
    "\n",
    "Input\n",
    "\n",
    "The first line of the input gives the number of test cases, T. \n",
    "T test cases follow. Each test case begins with a line containing the \n",
    "integers N and K. The second line contains N integers. The i-th integer is Ai.\n",
    "\n",
    "Output\n",
    "\n",
    "For each test case, output one line containing Case #x: y, \n",
    "where x is the test case number (starting from 1) and \n",
    "y is the number of K-countdowns in her array.\n",
    "\n",
    "Limits\n",
    "\n",
    "Time limit: 20 seconds.\n",
    "Memory limit: 1 GB.\n",
    "1 ≤ T ≤ 100.\n",
    "2 ≤ K ≤ N.\n",
    "1 ≤ Ai ≤ 2 × 105, for all i.\n",
    "\n",
    "Test Set 1\n",
    "\n",
    "2 ≤ N ≤ 1000.\n",
    "\n",
    "Test Set 2\n",
    "\n",
    "2 ≤ N ≤ 2 × 105 for at most 10 test cases.\n",
    "For the remaining cases, 2 ≤ N ≤ 1000.\n",
    "\n",
    "\"\"\""
   ]
  },
  {
   "cell_type": "code",
   "execution_count": null,
   "id": "e9b987c3",
   "metadata": {},
   "outputs": [],
   "source": []
  }
 ],
 "metadata": {
  "kernelspec": {
   "display_name": "Python 3",
   "language": "python",
   "name": "python3"
  },
  "language_info": {
   "codemirror_mode": {
    "name": "ipython",
    "version": 3
   },
   "file_extension": ".py",
   "mimetype": "text/x-python",
   "name": "python",
   "nbconvert_exporter": "python",
   "pygments_lexer": "ipython3",
   "version": "3.9.4"
  }
 },
 "nbformat": 4,
 "nbformat_minor": 5
}
