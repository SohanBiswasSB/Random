{
 "cells": [
  {
   "cell_type": "code",
   "execution_count": null,
   "id": "63cbf2ba",
   "metadata": {},
   "outputs": [],
   "source": [
    "\"\"\"\n",
    "(Asked in Accenture Offcampus 2 Aug 2021, Slot 1)\n",
    "\n",
    "Problem Statement\n",
    "\n",
    "You are required to implement the following function.\n",
    "\n",
    "Int OperationChoices(int c, int n, int a , int b )\n",
    "\n",
    "The function accepts 3 positive integers ‘a’ , ‘b’ and ‘c ‘ as its arguments. Implement the function to return.\n",
    "\n",
    "( a+ b ) , if c=1\n",
    "( a + b ) , if c=2\n",
    "( a * b ) ,  if c=3\n",
    "(a / b) ,  if c =4\n",
    "Assumption : All operations will result in integer output.\n",
    "\n",
    "Example:\n",
    "\n",
    "Input\n",
    "c :1\n",
    "a:12\n",
    "b:16\n",
    "Output:\n",
    "Since ‘c’=1 , (12+16) is performed which is equal to 28 , hence 28 is returned.\n",
    "Sample Input\n",
    "\n",
    " c : 2\n",
    "\n",
    " a : 16\n",
    "\n",
    " b : 20\n",
    "\n",
    "Sample Output\n",
    "\n",
    "-4\n",
    "\n",
    "\"\"\""
   ]
  },
  {
   "cell_type": "code",
   "execution_count": 3,
   "id": "31be5128",
   "metadata": {},
   "outputs": [
    {
     "name": "stdout",
     "output_type": "stream",
     "text": [
      "2 16 20\n",
      "-4\n"
     ]
    }
   ],
   "source": [
    "def operationChoices(c,a,b):\n",
    "\n",
    "    if c == 1 :\n",
    "\n",
    "        return(a+b)\n",
    "\n",
    "    elif c == 2:\n",
    "\n",
    "        return(a-b)\n",
    "\n",
    "    elif c == 3:\n",
    "\n",
    "        return(a*b)\n",
    "\n",
    "    else:\n",
    "\n",
    "        return(a//b)\n",
    "\n",
    "c,a,b = map(int,input().split())\n",
    "print(operationChoices(c, a, b))"
   ]
  },
  {
   "cell_type": "code",
   "execution_count": null,
   "id": "64523ad9",
   "metadata": {},
   "outputs": [],
   "source": []
  }
 ],
 "metadata": {
  "kernelspec": {
   "display_name": "Python 3 (ipykernel)",
   "language": "python",
   "name": "python3"
  },
  "language_info": {
   "codemirror_mode": {
    "name": "ipython",
    "version": 3
   },
   "file_extension": ".py",
   "mimetype": "text/x-python",
   "name": "python",
   "nbconvert_exporter": "python",
   "pygments_lexer": "ipython3",
   "version": "3.9.6"
  }
 },
 "nbformat": 4,
 "nbformat_minor": 5
}
