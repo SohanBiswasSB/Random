{
 "cells": [
  {
   "cell_type": "code",
   "execution_count": null,
   "id": "83f5e983",
   "metadata": {},
   "outputs": [],
   "source": [
    "\"\"\"\n",
    "N-base notation is a system for writing numbers that uses only n different symbols, This symbols are the first n symbols from the given notation list(Including the symbol for o) Decimal to n base notation are (0:0, 1:1, 2:2, 3:3, 4:4, 5:5, 6:6, 7:7, 8:8, 9:9, 10:A,11:B and so on upto 35:Z)\n",
    "\n",
    "Implement the following function\n",
    "\n",
    "Char* DectoNBase(int n, int num):\n",
    "\n",
    "The function accept positive integer n and num Implement the function to calculate the n-base equivalent of num and return the same as a string\n",
    "\n",
    "Steps:\n",
    "\n",
    "Divide the decimal number by n,Treat the division as the integer division\n",
    "Write the the remainder (in  n-base notation)\n",
    "Divide the quotient again by n, Treat the division as integer division\n",
    "Repeat step 2 and 3 until the quotient is 0\n",
    "The n-base value is the sequence of the remainders from last to first\n",
    "Assumption:\n",
    "\n",
    "1 < n < = 36\n",
    "\n",
    "Example\n",
    "\n",
    "Input\n",
    "\n",
    "n: 12\n",
    "\n",
    "num: 718\n",
    "\n",
    "Output\n",
    "\n",
    "4BA\n",
    "\n",
    "Explanation\n",
    "\n",
    "num       Divisor       quotient       remainder\n",
    "\n",
    "718           12               59                 10(A)\n",
    "\n",
    "59             12                4                   11(B)\n",
    "\n",
    "4               12                0                   4(4)\n",
    "\n",
    "Sample Input\n",
    "\n",
    "n: 21\n",
    "\n",
    "num: 5678\n",
    "\n",
    "Sample Output\n",
    "\n",
    "CI8\n",
    "\n",
    "\n",
    "\"\"\"\n",
    "\n"
   ]
  },
  {
   "cell_type": "code",
   "execution_count": 1,
   "id": "a40463a6",
   "metadata": {},
   "outputs": [
    {
     "name": "stdout",
     "output_type": "stream",
     "text": [
      "21\n",
      "5678\n",
      "CI8\n"
     ]
    }
   ],
   "source": [
    "n = int(input())\n",
    "num = int(input())\n",
    "reminder = []\n",
    "quotient = num // n\n",
    "reminder.append(num%n)\n",
    "while quotient != 0:\n",
    "    reminder.append(quotient%n)\n",
    "    quotient = quotient // n\n",
    "reminder = reminder[::-1]\n",
    "equivalent = ''\n",
    "for i in reminder:\n",
    "    if i > 9:\n",
    "        a = i - 9\n",
    "        a = 64 + a\n",
    "        equivalent+=chr(a)\n",
    "    else:\n",
    "        equivalent+=str(i)\n",
    "print(equivalent)"
   ]
  },
  {
   "cell_type": "code",
   "execution_count": null,
   "id": "36dc1f18",
   "metadata": {},
   "outputs": [],
   "source": []
  }
 ],
 "metadata": {
  "kernelspec": {
   "display_name": "Python 3 (ipykernel)",
   "language": "python",
   "name": "python3"
  },
  "language_info": {
   "codemirror_mode": {
    "name": "ipython",
    "version": 3
   },
   "file_extension": ".py",
   "mimetype": "text/x-python",
   "name": "python",
   "nbconvert_exporter": "python",
   "pygments_lexer": "ipython3",
   "version": "3.9.6"
  }
 },
 "nbformat": 4,
 "nbformat_minor": 5
}
