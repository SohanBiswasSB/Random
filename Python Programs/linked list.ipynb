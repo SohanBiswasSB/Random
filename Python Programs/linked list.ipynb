{
 "cells": [
  {
   "cell_type": "code",
   "execution_count": null,
   "id": "a6fc8e32",
   "metadata": {},
   "outputs": [],
   "source": [
    "#Decimal to Binary"
   ]
  },
  {
   "cell_type": "code",
   "execution_count": 1,
   "id": "4c4b97f4",
   "metadata": {},
   "outputs": [
    {
     "name": "stdout",
     "output_type": "stream",
     "text": [
      "011000"
     ]
    }
   ],
   "source": [
    "def DecimalToBinary(num):\n",
    "     \n",
    "    if num >= 1:\n",
    "        DecimalToBinary(num // 2)\n",
    "    print(num % 2, end = '')\n",
    " \n",
    "# Driver Code\n",
    "if __name__ == '__main__':\n",
    "     \n",
    "    # decimal value\n",
    "    dec_val = 24\n",
    "     \n",
    "    # Calling function\n",
    "    DecimalToBinary(dec_val)"
   ]
  },
  {
   "cell_type": "code",
   "execution_count": 2,
   "id": "2c8e67fc",
   "metadata": {},
   "outputs": [
    {
     "name": "stdout",
     "output_type": "stream",
     "text": [
      "1000\n",
      "10010\n",
      "111\n"
     ]
    }
   ],
   "source": [
    "def decimalToBinary(n):\n",
    "    return bin(n).replace(\"0b\", \"\")\n",
    "   \n",
    "# Driver code\n",
    "if __name__ == '__main__':\n",
    "    print(decimalToBinary(8))\n",
    "    print(decimalToBinary(18))\n",
    "    print(decimalToBinary(7))"
   ]
  },
  {
   "cell_type": "code",
   "execution_count": null,
   "id": "be5d141c",
   "metadata": {},
   "outputs": [],
   "source": [
    "#Binary to decimal"
   ]
  },
  {
   "cell_type": "code",
   "execution_count": 3,
   "id": "a1dc0f05",
   "metadata": {},
   "outputs": [
    {
     "name": "stdout",
     "output_type": "stream",
     "text": [
      "4\n",
      "5\n",
      "9\n"
     ]
    }
   ],
   "source": [
    "def binaryToDecimal(binary):\n",
    "      \n",
    "    binary1 = binary\n",
    "    decimal, i, n = 0, 0, 0\n",
    "    while(binary != 0):\n",
    "        dec = binary % 10\n",
    "        decimal = decimal + dec * pow(2, i)\n",
    "        binary = binary//10\n",
    "        i += 1\n",
    "    print(decimal)    \n",
    "      \n",
    "  \n",
    "# Driver code\n",
    "if __name__ == '__main__':\n",
    "    binaryToDecimal(100)\n",
    "    binaryToDecimal(101)\n",
    "    binaryToDecimal(1001)"
   ]
  },
  {
   "cell_type": "code",
   "execution_count": 4,
   "id": "581bc165",
   "metadata": {},
   "outputs": [
    {
     "name": "stdout",
     "output_type": "stream",
     "text": [
      "4\n",
      "5\n",
      "9\n"
     ]
    }
   ],
   "source": [
    "def binaryToDecimal(n):\n",
    "    return int(n,2)\n",
    "  \n",
    "  \n",
    "# Driver code\n",
    "if __name__ == '__main__':\n",
    "    print(binaryToDecimal('100'))\n",
    "    print(binaryToDecimal('101'))\n",
    "    print(binaryToDecimal('1001'))"
   ]
  },
  {
   "cell_type": "code",
   "execution_count": null,
   "id": "b49602e5",
   "metadata": {},
   "outputs": [],
   "source": [
    "#Binary to Octal"
   ]
  },
  {
   "cell_type": "code",
   "execution_count": 7,
   "id": "e1faa89d",
   "metadata": {},
   "outputs": [
    {
     "name": "stdout",
     "output_type": "stream",
     "text": [
      "Enter a Binary Number: 11111\n",
      "\n",
      "Equivalent Octal Value =  37\n"
     ]
    }
   ],
   "source": [
    "print(\"Enter a Binary Number: \", end=\"\")\n",
    "bnum = input()\n",
    "\n",
    "onum = int(bnum, 2)\n",
    "onum = oct(onum)\n",
    "\n",
    "print(\"\\nEquivalent Octal Value = \", onum[2:])"
   ]
  },
  {
   "cell_type": "code",
   "execution_count": 8,
   "id": "444a3839",
   "metadata": {},
   "outputs": [
    {
     "name": "stdout",
     "output_type": "stream",
     "text": [
      "Enter the Binary Number: 11111\n",
      "\n",
      "Equivalent Octal Value =  37\n"
     ]
    }
   ],
   "source": [
    "print(\"Enter the Binary Number: \", end=\"\")\n",
    "bnum = int(input())\n",
    "\n",
    "odig = 0\n",
    "mul = chk = 1\n",
    "onum = \"\"\n",
    "while bnum!=0:\n",
    "    rem = bnum % 10\n",
    "    odig = odig + (rem * mul)\n",
    "    if chk%3==0:\n",
    "        onum = onum + str(odig)\n",
    "        mul = chk = 1\n",
    "        odig = 0\n",
    "    else:\n",
    "        mul = mul*2\n",
    "        chk = chk+1\n",
    "    bnum = int(bnum / 10)\n",
    "\n",
    "if chk!=1:\n",
    "    onum = onum + str(odig)\n",
    "\n",
    "print(\"\\nEquivalent Octal Value = \", onum[::-1])"
   ]
  },
  {
   "cell_type": "code",
   "execution_count": null,
   "id": "a62e6ea6",
   "metadata": {},
   "outputs": [],
   "source": [
    "# Octal to Binary"
   ]
  },
  {
   "cell_type": "code",
   "execution_count": null,
   "id": "f81a95d4",
   "metadata": {},
   "outputs": [],
   "source": []
  },
  {
   "cell_type": "code",
   "execution_count": null,
   "id": "ee251bac",
   "metadata": {},
   "outputs": [],
   "source": []
  },
  {
   "cell_type": "code",
   "execution_count": null,
   "id": "b5a40c67",
   "metadata": {},
   "outputs": [],
   "source": [
    "#Binary to Hexadecimal"
   ]
  },
  {
   "cell_type": "code",
   "execution_count": null,
   "id": "3c5c2cb7",
   "metadata": {},
   "outputs": [],
   "source": []
  },
  {
   "cell_type": "code",
   "execution_count": null,
   "id": "aba8d721",
   "metadata": {},
   "outputs": [],
   "source": []
  },
  {
   "cell_type": "code",
   "execution_count": null,
   "id": "39b734ce",
   "metadata": {},
   "outputs": [],
   "source": [
    "# Hexadeciaml to Binary"
   ]
  },
  {
   "cell_type": "code",
   "execution_count": null,
   "id": "95961aaf",
   "metadata": {},
   "outputs": [],
   "source": []
  },
  {
   "cell_type": "code",
   "execution_count": null,
   "id": "e9136282",
   "metadata": {},
   "outputs": [],
   "source": []
  },
  {
   "cell_type": "code",
   "execution_count": null,
   "id": "8747e76f",
   "metadata": {},
   "outputs": [],
   "source": [
    "# Octal to Hexadecimal"
   ]
  },
  {
   "cell_type": "code",
   "execution_count": null,
   "id": "33887b94",
   "metadata": {},
   "outputs": [],
   "source": []
  },
  {
   "cell_type": "code",
   "execution_count": null,
   "id": "c1d7b5c7",
   "metadata": {},
   "outputs": [],
   "source": []
  },
  {
   "cell_type": "code",
   "execution_count": null,
   "id": "550da5d0",
   "metadata": {},
   "outputs": [],
   "source": [
    "# Hexadecimal to Octal"
   ]
  },
  {
   "cell_type": "code",
   "execution_count": null,
   "id": "525ca341",
   "metadata": {},
   "outputs": [],
   "source": []
  },
  {
   "cell_type": "code",
   "execution_count": null,
   "id": "c15ab671",
   "metadata": {},
   "outputs": [],
   "source": []
  }
 ],
 "metadata": {
  "kernelspec": {
   "display_name": "Python 3",
   "language": "python",
   "name": "python3"
  },
  "language_info": {
   "codemirror_mode": {
    "name": "ipython",
    "version": 3
   },
   "file_extension": ".py",
   "mimetype": "text/x-python",
   "name": "python",
   "nbconvert_exporter": "python",
   "pygments_lexer": "ipython3",
   "version": "3.9.4"
  }
 },
 "nbformat": 4,
 "nbformat_minor": 5
}
