{
 "cells": [
  {
   "cell_type": "code",
   "execution_count": null,
   "id": "383d1546",
   "metadata": {},
   "outputs": [],
   "source": [
    "\"\"\"\n",
    "\n",
    "Problem Statement\n",
    "\n",
    "You are given a function,\n",
    "\n",
    "Int MaxExponents (int a , int b);\n",
    "\n",
    "You have to find and return the number between ‘a’ and ‘b’ ( range inclusive on both ends) which has the maximum exponent of 2.\n",
    "\n",
    "The algorithm to find the number with maximum exponent of 2 between the given range is\n",
    "\n",
    "Loop between ‘a’ and ‘b’. Let the looping variable be ‘i’.\n",
    "Find the exponent (power) of 2 for each ‘i’ and store the number with maximum exponent of 2 so faqrd in a variable , let say ‘max’. Set ‘max’ to ‘i’ only if ‘i’ has more exponent of 2 than ‘max’.\n",
    "Return ‘max’.\n",
    "Assumption: a <b\n",
    "\n",
    "Note: If two or more numbers in the range have the same exponents of  2 , return the small number.\n",
    "\n",
    "Example\n",
    "\n",
    "Input:\n",
    "7\n",
    "12\n",
    "Output:\n",
    "8\n",
    "Explanation:\n",
    "\n",
    "Exponents of 2 in:\n",
    "\n",
    "7-0\n",
    "\n",
    "8-3\n",
    "\n",
    "9-0\n",
    "\n",
    "10-1\n",
    "\n",
    "11-0\n",
    "\n",
    "12-2\n",
    "\n",
    "Hence maximum exponent if two is of 8.\n",
    "\n",
    "\"\"\""
   ]
  },
  {
   "cell_type": "code",
   "execution_count": 1,
   "id": "929c7efc",
   "metadata": {},
   "outputs": [
    {
     "name": "stdout",
     "output_type": "stream",
     "text": [
      "7 12\n",
      "8\n"
     ]
    }
   ],
   "source": [
    "def countExponents(i):\n",
    "\n",
    "    count = 0\n",
    "\n",
    "    while i%2 == 0 and i != 0:\n",
    "\n",
    "        count+=1\n",
    "\n",
    "        i = i//2\n",
    "\n",
    "    return count\n",
    "\n",
    "def maxExponents(a, b):\n",
    "\n",
    "    maximum, number = 0, a\n",
    "\n",
    "    for i in range(a,b):\n",
    "\n",
    "        temp = countExponents(i)\n",
    "\n",
    "        if temp>maximum:\n",
    "\n",
    "            maximum, number = temp, i\n",
    "\n",
    "    return number\n",
    "\n",
    "a, b = map(int,input().split())\n",
    "\n",
    "print(maxExponents(a, b))"
   ]
  },
  {
   "cell_type": "code",
   "execution_count": null,
   "id": "d46fcd49",
   "metadata": {},
   "outputs": [],
   "source": []
  }
 ],
 "metadata": {
  "kernelspec": {
   "display_name": "Python 3 (ipykernel)",
   "language": "python",
   "name": "python3"
  },
  "language_info": {
   "codemirror_mode": {
    "name": "ipython",
    "version": 3
   },
   "file_extension": ".py",
   "mimetype": "text/x-python",
   "name": "python",
   "nbconvert_exporter": "python",
   "pygments_lexer": "ipython3",
   "version": "3.9.6"
  }
 },
 "nbformat": 4,
 "nbformat_minor": 5
}
